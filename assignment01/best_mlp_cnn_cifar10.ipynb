{
  "nbformat": 4,
  "nbformat_minor": 0,
  "metadata": {
    "colab": {
      "name": "best_mlp_cnn_cifar10.ipynb",
      "provenance": [],
      "toc_visible": true,
      "authorship_tag": "ABX9TyPDE01iIoLxv2oKVGxtuBX5",
      "include_colab_link": true
    },
    "kernelspec": {
      "name": "python3",
      "display_name": "Python 3"
    }
  },
  "cells": [
    {
      "cell_type": "markdown",
      "metadata": {
        "id": "view-in-github",
        "colab_type": "text"
      },
      "source": [
        "<a href=\"https://colab.research.google.com/github/soymarwin/ee298z-assignment01/blob/master/best_mlp_cnn_cifar10.ipynb\" target=\"_parent\"><img src=\"https://colab.research.google.com/assets/colab-badge.svg\" alt=\"Open In Colab\"/></a>"
      ]
    },
    {
      "cell_type": "markdown",
      "metadata": {
        "id": "xdYKeqfg_qO-"
      },
      "source": [
        "# **EE298Z-Assignment01**\n",
        "## **Best 3-layer MLP and CNN Configuration for CIFAR10 Img. Clsf. with SGD**\n",
        "#### Written and Performed by **Marwin B. Alejo 2020-20221**\n",
        "#### Performed on **September 26, 2020**\n",
        "\n",
        "###### *Note: The following cells below are best viewed in Google Colab!*\n",
        "\n",
        "**REQUIREMENTS**\n",
        "1. Build a classifier on CIFAR10 dataset using MLP and CNN\n",
        "2. The last layer is Dense\n",
        "3. Hyperparameters are open for modification except for optimizer must be SGD\n",
        "4. Use Jupyter notebook shared via Github\n",
        "5. Implement using Keras or Pytorch\n",
        "6. Compare best MLP and CNN\n",
        "\n",
        "**USED COMPUTE RESOURCES**\n",
        "1. Google Colab in CPU and TPU modes\n"
      ]
    },
    {
      "cell_type": "markdown",
      "metadata": {
        "id": "SzErK8Z-QMAn"
      },
      "source": [
        "### **Overview**\n",
        "Among all the modeling and trials made for CIFAR10 image classification as shown [in this notebook](https://github.com/soymarwin/ee298z-assignment01/blob/master/complete_cifar10_mlp_cnn_trials.ipynb), only the following configurations below were found the best performing MLP and CNN models with the consideration of the above-listed requirements.\n",
        "\n",
        "The best performing MLP from the pool of MLP trials achieved an accuracy score of 53.49%. Although other MLP configurations achieved a test accuracy of more than 55%, it is observed that these configurations are overfitting.\n",
        "\n",
        "Likewise, the best performing 3-layer CNN from the pool of CNN trials achieved a test accuracy of 82.85%. The unique parameter in this configuration is that it uses the LeakyReLU activation function as configurations with eLU and ReLU yields lower accuracies.\n",
        "\n",
        "Additionally, a 3-block CNN was explored and yields a test accuracy of 89.17%. Unlike the 3-layer CNN configuration above, this 3-block CNN uses the eLU activation function and average pooling.\n",
        "\n",
        "Overall, in terms of performance, eventhough CNN is computationally expensive in comparison to MLP, CNN performs better for image classification task than MLP. Although MLP is capable of the said task, it is prone to abnormal(under/over) fitting depending on the extent of the MLP network design. Also, with the 3-layer network design requirement, CNN achieves an accuracy of 82% to 89% while MLP achieves at arounf 52% to 56%. "
      ]
    },
    {
      "cell_type": "markdown",
      "metadata": {
        "id": "n5wHQuPVXGeL"
      },
      "source": [
        "### **Best 3-layer MLP Configuration**"
      ]
    },
    {
      "cell_type": "code",
      "metadata": {
        "id": "68HLY0Xy6f5i",
        "outputId": "35130603-d5d9-4cb6-c4d1-142b89284c40",
        "colab": {
          "base_uri": "https://localhost:8080/",
          "height": 1000
        }
      },
      "source": [
        "# Lib forevs\n",
        "import numpy as np\n",
        "import matplotlib.pyplot as plt\n",
        "from collections import namedtuple as nt\n",
        "from keras.models import Model\n",
        "from keras.layers import Dense, Activation, Flatten, Dropout, Input\n",
        "from keras.optimizers import SGD\n",
        "from keras.utils import to_categorical\n",
        "from keras.callbacks import ModelCheckpoint\n",
        "from keras.datasets import cifar10\n",
        "from keras import regularizers\n",
        "from keras.preprocessing.image import ImageDataGenerator\n",
        "%matplotlib inline\n",
        "\n",
        "# Organizing CIFAR10 data as DATA\n",
        "Data = nt(\"Data\", \"x_train y_train x_valid y_valid x_test y_test\")\n",
        "\n",
        "# Visualize the data.\n",
        "def visualize_data(data):\n",
        "    images_to_show = 36\n",
        "    per_row = 12\n",
        "    fig = plt.figure(figsize=(20,5))\n",
        "    for i in range(images_to_show):\n",
        "        pos = (i // per_row, ((i % per_row) + per_row) % per_row)\n",
        "        ax = plt.subplot2grid((int(images_to_show / per_row), per_row),\n",
        "                              pos, xticks=[], yticks=[])\n",
        "        ax.imshow(np.squeeze(data.x_train[i]))\n",
        "    plt.show()\n",
        "\n",
        "# Function for model visualization\n",
        "def visualize_training(hist):\n",
        "    # Training v. validation accuracy chart\n",
        "    plt.plot(hist.history['accuracy'])\n",
        "    plt.plot(hist.history['val_accuracy'])\n",
        "    plt.title('accuracy')\n",
        "    plt.ylabel('accuracy')\n",
        "    plt.xlabel('epochs')\n",
        "    plt.legend(['training', 'validation'], loc='lower right')\n",
        "    plt.show()\n",
        "    \n",
        "    # Training v. validation loss chart\n",
        "    plt.plot(hist.history['loss'])\n",
        "    plt.plot(hist.history['val_loss'])\n",
        "    plt.title('loss')\n",
        "    plt.ylabel('loss')\n",
        "    plt.xlabel('epochs')\n",
        "    plt.legend(['training', 'validation'], loc='upper right')\n",
        "    plt.show()\n",
        "\n",
        "# Function to preprocess data\n",
        "def preprocess(data, categories):\n",
        "    x_train = data.x_train.astype(\"float32\") / 255\n",
        "    x_test = data.x_test.astype(\"float32\") / 255\n",
        "    y_train = to_categorical(data.y_train, categories)\n",
        "    y_test = to_categorical(data.y_test, categories)    \n",
        "    return Data(x_train[5000:], y_train[5000:],\n",
        "                x_train[:5000], y_train[:5000],\n",
        "                x_test, y_test)\n",
        "    \n",
        "# MLP architecture with dropout\n",
        "def dropout_mlp(data, categories):\n",
        "  inputs = Input(input_shape, )\n",
        "  y = Flatten()(inputs)\n",
        "  y = Dense(hidden_layer_1, activation=activation_1)(y)\n",
        "  y = Dropout(dropout_1)(y)\n",
        "  y = Dense(hidden_layer_2, activation=activation_1)(y)\n",
        "  y = Dropout(dropout_2)(y)\n",
        "  outputs = Dense(categories, activation=activation_2)(y)\n",
        "  model = Model(inputs=inputs, outputs=outputs)\n",
        "  model.compile(loss=loss, optimizer=optimizer, metrics=metrics)\n",
        "  return model\n",
        "\n",
        "# Load CIFAR10 Data as data\n",
        "(x_train, y_train), (x_test, y_test) = cifar10.load_data()\n",
        "data = Data(x_train, y_train, None, None, x_test, y_test)\n",
        "\n",
        "# visualize CIFAR10 data samples (optional)\n",
        "# visualize_data(data) # uncomment when wanted\n",
        "\n",
        "# Preprocess the loaded data\n",
        "categories = len(np.unique(data.y_train))\n",
        "processed_data = preprocess(data, categories)\n",
        "\n",
        "# Parameters for MLP training\n",
        "input_shape = data.x_train.shape[1:]\n",
        "epochs = 50\n",
        "batch_size = 32\n",
        "dropout_1 = 0.5\n",
        "dropout_2 = 0.5\n",
        "hidden_layer_1 = 1024\n",
        "hidden_layer_2 = 512\n",
        "activation_1 = 'relu'\n",
        "activation_2 = 'softmax'\n",
        "optimizer = \"sgd\"\n",
        "loss = \"categorical_crossentropy\"\n",
        "metrics = ['accuracy']\n",
        "\n",
        "# Build MLP model with dropout\n",
        "mlp_dropout = dropout_mlp(processed_data, categories)\n",
        "print(\"MLP with Dropout Architecture:\")\n",
        "mlp_dropout.summary()\n",
        "mlp_dropout_weights_path = \"best_dropout_MLP_model_cifar10.hdf5\"\n",
        "\n",
        "# vanilla_mlp\n",
        "cp_dropout_mlp = ModelCheckpoint(filepath=mlp_dropout_weights_path, \n",
        "                                   verbose=1, save_best_only=True)\n",
        "hist_dropout_mlp = mlp_dropout.fit(processed_data.x_train, \n",
        "                   processed_data.y_train, \n",
        "                   batch_size=batch_size, \n",
        "                   epochs=epochs, \n",
        "                   validation_data=(processed_data.x_valid,\n",
        "                                    processed_data.y_valid),\n",
        "                   callbacks=[cp_dropout_mlp], shuffle=True)\n",
        "# Train built mlp model with dropout\n",
        "mlp_dropout.load_weights(mlp_dropout_weights_path)\n",
        "score_mlp_dropout = mlp_dropout.evaluate(processed_data.x_test, processed_data.y_test, verbose=0)\n",
        "visualize_training(hist_dropout_mlp)\n",
        "print(\"Loss: %.2f%%\" % (score_mlp_dropout[0]*100))\n",
        "print(\"Accuracy: %.2f%%\" % (score_mlp_dropout[1]*100))"
      ],
      "execution_count": null,
      "outputs": [
        {
          "output_type": "stream",
          "text": [
            "MLP with Dropout Architecture:\n",
            "Model: \"functional_5\"\n",
            "_________________________________________________________________\n",
            "Layer (type)                 Output Shape              Param #   \n",
            "=================================================================\n",
            "input_3 (InputLayer)         [(None, 32, 32, 3)]       0         \n",
            "_________________________________________________________________\n",
            "flatten_2 (Flatten)          (None, 3072)              0         \n",
            "_________________________________________________________________\n",
            "dense_6 (Dense)              (None, 1024)              3146752   \n",
            "_________________________________________________________________\n",
            "dropout (Dropout)            (None, 1024)              0         \n",
            "_________________________________________________________________\n",
            "dense_7 (Dense)              (None, 512)               524800    \n",
            "_________________________________________________________________\n",
            "dropout_1 (Dropout)          (None, 512)               0         \n",
            "_________________________________________________________________\n",
            "dense_8 (Dense)              (None, 10)                5130      \n",
            "=================================================================\n",
            "Total params: 3,676,682\n",
            "Trainable params: 3,676,682\n",
            "Non-trainable params: 0\n",
            "_________________________________________________________________\n",
            "Epoch 1/50\n",
            "1406/1407 [============================>.] - ETA: 0s - loss: 2.0518 - accuracy: 0.2507\n",
            "Epoch 00001: val_loss improved from inf to 1.88039, saving model to best_dropout_MLP_model_cifar10.hdf5\n",
            "1407/1407 [==============================] - 33s 24ms/step - loss: 2.0519 - accuracy: 0.2506 - val_loss: 1.8804 - val_accuracy: 0.3440\n",
            "Epoch 2/50\n",
            "1406/1407 [============================>.] - ETA: 0s - loss: 1.8803 - accuracy: 0.3199\n",
            "Epoch 00002: val_loss improved from 1.88039 to 1.78379, saving model to best_dropout_MLP_model_cifar10.hdf5\n",
            "1407/1407 [==============================] - 33s 24ms/step - loss: 1.8803 - accuracy: 0.3199 - val_loss: 1.7838 - val_accuracy: 0.3694\n",
            "Epoch 3/50\n",
            "1407/1407 [==============================] - ETA: 0s - loss: 1.8132 - accuracy: 0.3505\n",
            "Epoch 00003: val_loss improved from 1.78379 to 1.71527, saving model to best_dropout_MLP_model_cifar10.hdf5\n",
            "1407/1407 [==============================] - 34s 24ms/step - loss: 1.8132 - accuracy: 0.3505 - val_loss: 1.7153 - val_accuracy: 0.3882\n",
            "Epoch 4/50\n",
            "1406/1407 [============================>.] - ETA: 0s - loss: 1.7667 - accuracy: 0.3669\n",
            "Epoch 00004: val_loss improved from 1.71527 to 1.67159, saving model to best_dropout_MLP_model_cifar10.hdf5\n",
            "1407/1407 [==============================] - 34s 24ms/step - loss: 1.7667 - accuracy: 0.3669 - val_loss: 1.6716 - val_accuracy: 0.4038\n",
            "Epoch 5/50\n",
            "1405/1407 [============================>.] - ETA: 0s - loss: 1.7351 - accuracy: 0.3779\n",
            "Epoch 00005: val_loss improved from 1.67159 to 1.64264, saving model to best_dropout_MLP_model_cifar10.hdf5\n",
            "1407/1407 [==============================] - 33s 24ms/step - loss: 1.7349 - accuracy: 0.3780 - val_loss: 1.6426 - val_accuracy: 0.4268\n",
            "Epoch 6/50\n",
            "1406/1407 [============================>.] - ETA: 0s - loss: 1.7080 - accuracy: 0.3913\n",
            "Epoch 00006: val_loss improved from 1.64264 to 1.61221, saving model to best_dropout_MLP_model_cifar10.hdf5\n",
            "1407/1407 [==============================] - 34s 24ms/step - loss: 1.7079 - accuracy: 0.3913 - val_loss: 1.6122 - val_accuracy: 0.4230\n",
            "Epoch 7/50\n",
            "1406/1407 [============================>.] - ETA: 0s - loss: 1.6802 - accuracy: 0.4021\n",
            "Epoch 00007: val_loss improved from 1.61221 to 1.59979, saving model to best_dropout_MLP_model_cifar10.hdf5\n",
            "1407/1407 [==============================] - 33s 24ms/step - loss: 1.6803 - accuracy: 0.4021 - val_loss: 1.5998 - val_accuracy: 0.4356\n",
            "Epoch 8/50\n",
            "1406/1407 [============================>.] - ETA: 0s - loss: 1.6566 - accuracy: 0.4087\n",
            "Epoch 00008: val_loss improved from 1.59979 to 1.56170, saving model to best_dropout_MLP_model_cifar10.hdf5\n",
            "1407/1407 [==============================] - 34s 24ms/step - loss: 1.6566 - accuracy: 0.4087 - val_loss: 1.5617 - val_accuracy: 0.4526\n",
            "Epoch 9/50\n",
            "1407/1407 [==============================] - ETA: 0s - loss: 1.6343 - accuracy: 0.4178\n",
            "Epoch 00009: val_loss did not improve from 1.56170\n",
            "1407/1407 [==============================] - 34s 24ms/step - loss: 1.6343 - accuracy: 0.4178 - val_loss: 1.6409 - val_accuracy: 0.4190\n",
            "Epoch 10/50\n",
            "1406/1407 [============================>.] - ETA: 0s - loss: 1.6166 - accuracy: 0.4266\n",
            "Epoch 00010: val_loss improved from 1.56170 to 1.55290, saving model to best_dropout_MLP_model_cifar10.hdf5\n",
            "1407/1407 [==============================] - 33s 24ms/step - loss: 1.6167 - accuracy: 0.4265 - val_loss: 1.5529 - val_accuracy: 0.4522\n",
            "Epoch 11/50\n",
            "1406/1407 [============================>.] - ETA: 0s - loss: 1.6019 - accuracy: 0.4303\n",
            "Epoch 00011: val_loss did not improve from 1.55290\n",
            "1407/1407 [==============================] - 33s 24ms/step - loss: 1.6019 - accuracy: 0.4303 - val_loss: 1.5710 - val_accuracy: 0.4248\n",
            "Epoch 12/50\n",
            "1406/1407 [============================>.] - ETA: 0s - loss: 1.5853 - accuracy: 0.4366\n",
            "Epoch 00012: val_loss improved from 1.55290 to 1.53104, saving model to best_dropout_MLP_model_cifar10.hdf5\n",
            "1407/1407 [==============================] - 34s 24ms/step - loss: 1.5853 - accuracy: 0.4366 - val_loss: 1.5310 - val_accuracy: 0.4484\n",
            "Epoch 13/50\n",
            "1407/1407 [==============================] - ETA: 0s - loss: 1.5742 - accuracy: 0.4388\n",
            "Epoch 00013: val_loss improved from 1.53104 to 1.51535, saving model to best_dropout_MLP_model_cifar10.hdf5\n",
            "1407/1407 [==============================] - 34s 24ms/step - loss: 1.5742 - accuracy: 0.4388 - val_loss: 1.5154 - val_accuracy: 0.4576\n",
            "Epoch 14/50\n",
            "1407/1407 [==============================] - ETA: 0s - loss: 1.5599 - accuracy: 0.4452\n",
            "Epoch 00014: val_loss did not improve from 1.51535\n",
            "1407/1407 [==============================] - 33s 24ms/step - loss: 1.5599 - accuracy: 0.4452 - val_loss: 1.5703 - val_accuracy: 0.4342\n",
            "Epoch 15/50\n",
            "1407/1407 [==============================] - ETA: 0s - loss: 1.5415 - accuracy: 0.4512\n",
            "Epoch 00015: val_loss improved from 1.51535 to 1.48310, saving model to best_dropout_MLP_model_cifar10.hdf5\n",
            "1407/1407 [==============================] - 33s 24ms/step - loss: 1.5415 - accuracy: 0.4512 - val_loss: 1.4831 - val_accuracy: 0.4702\n",
            "Epoch 16/50\n",
            "1406/1407 [============================>.] - ETA: 0s - loss: 1.5349 - accuracy: 0.4523\n",
            "Epoch 00016: val_loss improved from 1.48310 to 1.47936, saving model to best_dropout_MLP_model_cifar10.hdf5\n",
            "1407/1407 [==============================] - 33s 24ms/step - loss: 1.5348 - accuracy: 0.4523 - val_loss: 1.4794 - val_accuracy: 0.4680\n",
            "Epoch 17/50\n",
            "1406/1407 [============================>.] - ETA: 0s - loss: 1.5206 - accuracy: 0.4580\n",
            "Epoch 00017: val_loss did not improve from 1.47936\n",
            "1407/1407 [==============================] - 34s 24ms/step - loss: 1.5206 - accuracy: 0.4580 - val_loss: 1.5227 - val_accuracy: 0.4438\n",
            "Epoch 18/50\n",
            "1406/1407 [============================>.] - ETA: 0s - loss: 1.5117 - accuracy: 0.4607\n",
            "Epoch 00018: val_loss improved from 1.47936 to 1.44817, saving model to best_dropout_MLP_model_cifar10.hdf5\n",
            "1407/1407 [==============================] - 35s 25ms/step - loss: 1.5117 - accuracy: 0.4607 - val_loss: 1.4482 - val_accuracy: 0.4876\n",
            "Epoch 19/50\n",
            "1407/1407 [==============================] - ETA: 0s - loss: 1.5032 - accuracy: 0.4633\n",
            "Epoch 00019: val_loss improved from 1.44817 to 1.44560, saving model to best_dropout_MLP_model_cifar10.hdf5\n",
            "1407/1407 [==============================] - 33s 24ms/step - loss: 1.5032 - accuracy: 0.4633 - val_loss: 1.4456 - val_accuracy: 0.5028\n",
            "Epoch 20/50\n",
            "1407/1407 [==============================] - ETA: 0s - loss: 1.4926 - accuracy: 0.4649\n",
            "Epoch 00020: val_loss did not improve from 1.44560\n",
            "1407/1407 [==============================] - 34s 24ms/step - loss: 1.4926 - accuracy: 0.4649 - val_loss: 1.4611 - val_accuracy: 0.4804\n",
            "Epoch 21/50\n",
            "1406/1407 [============================>.] - ETA: 0s - loss: 1.4862 - accuracy: 0.4707\n",
            "Epoch 00021: val_loss improved from 1.44560 to 1.43077, saving model to best_dropout_MLP_model_cifar10.hdf5\n",
            "1407/1407 [==============================] - 33s 24ms/step - loss: 1.4862 - accuracy: 0.4707 - val_loss: 1.4308 - val_accuracy: 0.4944\n",
            "Epoch 22/50\n",
            "1407/1407 [==============================] - ETA: 0s - loss: 1.4683 - accuracy: 0.4772\n",
            "Epoch 00022: val_loss did not improve from 1.43077\n",
            "1407/1407 [==============================] - 34s 24ms/step - loss: 1.4683 - accuracy: 0.4772 - val_loss: 1.4456 - val_accuracy: 0.4922\n",
            "Epoch 23/50\n",
            "1405/1407 [============================>.] - ETA: 0s - loss: 1.4609 - accuracy: 0.4801\n",
            "Epoch 00023: val_loss did not improve from 1.43077\n",
            "1407/1407 [==============================] - 33s 24ms/step - loss: 1.4612 - accuracy: 0.4800 - val_loss: 1.4399 - val_accuracy: 0.4906\n",
            "Epoch 24/50\n",
            "1406/1407 [============================>.] - ETA: 0s - loss: 1.4563 - accuracy: 0.4801\n",
            "Epoch 00024: val_loss did not improve from 1.43077\n",
            "1407/1407 [==============================] - 33s 24ms/step - loss: 1.4563 - accuracy: 0.4801 - val_loss: 1.4471 - val_accuracy: 0.4776\n",
            "Epoch 25/50\n",
            "1406/1407 [============================>.] - ETA: 0s - loss: 1.4486 - accuracy: 0.4825\n",
            "Epoch 00025: val_loss improved from 1.43077 to 1.42180, saving model to best_dropout_MLP_model_cifar10.hdf5\n",
            "1407/1407 [==============================] - 33s 24ms/step - loss: 1.4486 - accuracy: 0.4825 - val_loss: 1.4218 - val_accuracy: 0.4978\n",
            "Epoch 26/50\n",
            "1405/1407 [============================>.] - ETA: 0s - loss: 1.4398 - accuracy: 0.4843\n",
            "Epoch 00026: val_loss did not improve from 1.42180\n",
            "1407/1407 [==============================] - 33s 24ms/step - loss: 1.4398 - accuracy: 0.4842 - val_loss: 1.4306 - val_accuracy: 0.5024\n",
            "Epoch 27/50\n",
            "1405/1407 [============================>.] - ETA: 0s - loss: 1.4359 - accuracy: 0.4857\n",
            "Epoch 00027: val_loss did not improve from 1.42180\n",
            "1407/1407 [==============================] - 33s 24ms/step - loss: 1.4358 - accuracy: 0.4858 - val_loss: 1.5011 - val_accuracy: 0.4518\n",
            "Epoch 28/50\n",
            "1407/1407 [==============================] - ETA: 0s - loss: 1.4235 - accuracy: 0.4918\n",
            "Epoch 00028: val_loss improved from 1.42180 to 1.42061, saving model to best_dropout_MLP_model_cifar10.hdf5\n",
            "1407/1407 [==============================] - 35s 25ms/step - loss: 1.4235 - accuracy: 0.4918 - val_loss: 1.4206 - val_accuracy: 0.5014\n",
            "Epoch 29/50\n",
            "1405/1407 [============================>.] - ETA: 0s - loss: 1.4188 - accuracy: 0.4917\n",
            "Epoch 00029: val_loss improved from 1.42061 to 1.40191, saving model to best_dropout_MLP_model_cifar10.hdf5\n",
            "1407/1407 [==============================] - 34s 24ms/step - loss: 1.4186 - accuracy: 0.4918 - val_loss: 1.4019 - val_accuracy: 0.4930\n",
            "Epoch 30/50\n",
            "1405/1407 [============================>.] - ETA: 0s - loss: 1.4110 - accuracy: 0.4963\n",
            "Epoch 00030: val_loss did not improve from 1.40191\n",
            "1407/1407 [==============================] - 33s 24ms/step - loss: 1.4112 - accuracy: 0.4963 - val_loss: 1.4072 - val_accuracy: 0.4992\n",
            "Epoch 31/50\n",
            "1405/1407 [============================>.] - ETA: 0s - loss: 1.4071 - accuracy: 0.4980\n",
            "Epoch 00031: val_loss did not improve from 1.40191\n",
            "1407/1407 [==============================] - 33s 24ms/step - loss: 1.4070 - accuracy: 0.4980 - val_loss: 1.4309 - val_accuracy: 0.4880\n",
            "Epoch 32/50\n",
            "1407/1407 [==============================] - ETA: 0s - loss: 1.3916 - accuracy: 0.5017\n",
            "Epoch 00032: val_loss improved from 1.40191 to 1.39280, saving model to best_dropout_MLP_model_cifar10.hdf5\n",
            "1407/1407 [==============================] - 33s 23ms/step - loss: 1.3916 - accuracy: 0.5017 - val_loss: 1.3928 - val_accuracy: 0.5086\n",
            "Epoch 33/50\n",
            "1406/1407 [============================>.] - ETA: 0s - loss: 1.3868 - accuracy: 0.5009\n",
            "Epoch 00033: val_loss did not improve from 1.39280\n",
            "1407/1407 [==============================] - 33s 24ms/step - loss: 1.3868 - accuracy: 0.5008 - val_loss: 1.4244 - val_accuracy: 0.4948\n",
            "Epoch 34/50\n",
            "1405/1407 [============================>.] - ETA: 0s - loss: 1.3845 - accuracy: 0.5043\n",
            "Epoch 00034: val_loss improved from 1.39280 to 1.37601, saving model to best_dropout_MLP_model_cifar10.hdf5\n",
            "1407/1407 [==============================] - 33s 23ms/step - loss: 1.3843 - accuracy: 0.5043 - val_loss: 1.3760 - val_accuracy: 0.5166\n",
            "Epoch 35/50\n",
            "1407/1407 [==============================] - ETA: 0s - loss: 1.3756 - accuracy: 0.5062\n",
            "Epoch 00035: val_loss improved from 1.37601 to 1.37523, saving model to best_dropout_MLP_model_cifar10.hdf5\n",
            "1407/1407 [==============================] - 33s 23ms/step - loss: 1.3756 - accuracy: 0.5062 - val_loss: 1.3752 - val_accuracy: 0.5182\n",
            "Epoch 36/50\n",
            "1405/1407 [============================>.] - ETA: 0s - loss: 1.3684 - accuracy: 0.5092\n",
            "Epoch 00036: val_loss did not improve from 1.37523\n",
            "1407/1407 [==============================] - 33s 23ms/step - loss: 1.3685 - accuracy: 0.5092 - val_loss: 1.4418 - val_accuracy: 0.4902\n",
            "Epoch 37/50\n",
            "1407/1407 [==============================] - ETA: 0s - loss: 1.3652 - accuracy: 0.5072\n",
            "Epoch 00037: val_loss did not improve from 1.37523\n",
            "1407/1407 [==============================] - 34s 24ms/step - loss: 1.3652 - accuracy: 0.5072 - val_loss: 1.4471 - val_accuracy: 0.4978\n",
            "Epoch 38/50\n",
            "1407/1407 [==============================] - ETA: 0s - loss: 1.3639 - accuracy: 0.5115\n",
            "Epoch 00038: val_loss improved from 1.37523 to 1.35893, saving model to best_dropout_MLP_model_cifar10.hdf5\n",
            "1407/1407 [==============================] - 34s 24ms/step - loss: 1.3639 - accuracy: 0.5115 - val_loss: 1.3589 - val_accuracy: 0.5212\n",
            "Epoch 39/50\n",
            "1405/1407 [============================>.] - ETA: 0s - loss: 1.3544 - accuracy: 0.5137\n",
            "Epoch 00039: val_loss improved from 1.35893 to 1.35647, saving model to best_dropout_MLP_model_cifar10.hdf5\n",
            "1407/1407 [==============================] - 33s 23ms/step - loss: 1.3543 - accuracy: 0.5138 - val_loss: 1.3565 - val_accuracy: 0.5248\n",
            "Epoch 40/50\n",
            "1405/1407 [============================>.] - ETA: 0s - loss: 1.3448 - accuracy: 0.5188\n",
            "Epoch 00040: val_loss did not improve from 1.35647\n",
            "1407/1407 [==============================] - 34s 24ms/step - loss: 1.3450 - accuracy: 0.5187 - val_loss: 1.3853 - val_accuracy: 0.5046\n",
            "Epoch 41/50\n",
            "1406/1407 [============================>.] - ETA: 0s - loss: 1.3419 - accuracy: 0.5176\n",
            "Epoch 00041: val_loss did not improve from 1.35647\n",
            "1407/1407 [==============================] - 33s 24ms/step - loss: 1.3420 - accuracy: 0.5176 - val_loss: 1.3980 - val_accuracy: 0.5104\n",
            "Epoch 42/50\n",
            "1406/1407 [============================>.] - ETA: 0s - loss: 1.3395 - accuracy: 0.5225\n",
            "Epoch 00042: val_loss did not improve from 1.35647\n",
            "1407/1407 [==============================] - 33s 24ms/step - loss: 1.3395 - accuracy: 0.5225 - val_loss: 1.3616 - val_accuracy: 0.5166\n",
            "Epoch 43/50\n",
            "1407/1407 [==============================] - ETA: 0s - loss: 1.3291 - accuracy: 0.5231\n",
            "Epoch 00043: val_loss did not improve from 1.35647\n",
            "1407/1407 [==============================] - 33s 24ms/step - loss: 1.3291 - accuracy: 0.5231 - val_loss: 1.3707 - val_accuracy: 0.5118\n",
            "Epoch 44/50\n",
            "1406/1407 [============================>.] - ETA: 0s - loss: 1.3223 - accuracy: 0.5259\n",
            "Epoch 00044: val_loss did not improve from 1.35647\n",
            "1407/1407 [==============================] - 33s 24ms/step - loss: 1.3224 - accuracy: 0.5259 - val_loss: 1.3714 - val_accuracy: 0.4972\n",
            "Epoch 45/50\n",
            "1405/1407 [============================>.] - ETA: 0s - loss: 1.3214 - accuracy: 0.5253\n",
            "Epoch 00045: val_loss did not improve from 1.35647\n",
            "1407/1407 [==============================] - 33s 24ms/step - loss: 1.3216 - accuracy: 0.5252 - val_loss: 1.3694 - val_accuracy: 0.5222\n",
            "Epoch 46/50\n",
            "1406/1407 [============================>.] - ETA: 0s - loss: 1.3158 - accuracy: 0.5312\n",
            "Epoch 00046: val_loss improved from 1.35647 to 1.30954, saving model to best_dropout_MLP_model_cifar10.hdf5\n",
            "1407/1407 [==============================] - 34s 24ms/step - loss: 1.3158 - accuracy: 0.5312 - val_loss: 1.3095 - val_accuracy: 0.5382\n",
            "Epoch 47/50\n",
            "1405/1407 [============================>.] - ETA: 0s - loss: 1.3091 - accuracy: 0.5305\n",
            "Epoch 00047: val_loss did not improve from 1.30954\n",
            "1407/1407 [==============================] - 35s 25ms/step - loss: 1.3090 - accuracy: 0.5305 - val_loss: 1.3559 - val_accuracy: 0.5182\n",
            "Epoch 48/50\n",
            "1406/1407 [============================>.] - ETA: 0s - loss: 1.3057 - accuracy: 0.5327\n",
            "Epoch 00048: val_loss did not improve from 1.30954\n",
            "1407/1407 [==============================] - 33s 24ms/step - loss: 1.3057 - accuracy: 0.5328 - val_loss: 1.3246 - val_accuracy: 0.5350\n",
            "Epoch 49/50\n",
            "1406/1407 [============================>.] - ETA: 0s - loss: 1.2986 - accuracy: 0.5343\n",
            "Epoch 00049: val_loss did not improve from 1.30954\n",
            "1407/1407 [==============================] - 34s 24ms/step - loss: 1.2986 - accuracy: 0.5343 - val_loss: 1.3599 - val_accuracy: 0.5248\n",
            "Epoch 50/50\n",
            "1405/1407 [============================>.] - ETA: 0s - loss: 1.2923 - accuracy: 0.5360\n",
            "Epoch 00050: val_loss did not improve from 1.30954\n",
            "1407/1407 [==============================] - 34s 24ms/step - loss: 1.2924 - accuracy: 0.5360 - val_loss: 1.3642 - val_accuracy: 0.5160\n"
          ],
          "name": "stdout"
        },
        {
          "output_type": "display_data",
          "data": {
            "image/png": "[encoded data removed]",
            "text/plain": [
              "<Figure size 432x288 with 1 Axes>"
            ]
          },
          "metadata": {
            "tags": [],
            "needs_background": "light"
          }
        },
        {
          "output_type": "display_data",
          "data": {
            "image/png": "[encoded data removed]",
            "text/plain": [
              "<Figure size 432x288 with 1 Axes>"
            ]
          },
          "metadata": {
            "tags": [],
            "needs_background": "light"
          }
        },
        {
          "output_type": "stream",
          "text": [
            "Loss: 130.09%\n",
            "Accuracy: 53.49%\n"
          ],
          "name": "stdout"
        }
      ]
    },
    {
      "cell_type": "markdown",
      "metadata": {
        "id": "7Trnc2ZNXtGE"
      },
      "source": [
        "### **Best 3-layer CNN Configuration**"
      ]
    },
    {
      "cell_type": "code",
      "metadata": {
        "id": "3Nm7WAu12IJy",
        "outputId": "8394fb79-1583-4d44-e34e-8ef57c701621",
        "colab": {
          "base_uri": "https://localhost:8080/",
          "height": 1000
        }
      },
      "source": [
        "import tensorflow as tf\n",
        "import os\n",
        "import tensorflow.keras.layers as layers\n",
        "import numpy as np\n",
        "import pickle\n",
        "import matplotlib.pyplot as plt\n",
        "from keras.callbacks import ModelCheckpoint\n",
        "\n",
        "# TPU\n",
        "tpu_grpc_url = \"grpc://\" + os.environ[\"COLAB_TPU_ADDR\"]\n",
        "tpu_cluster_resolver = tf.distribute.cluster_resolver.TPUClusterResolver(tpu_grpc_url)\n",
        "tf.config.experimental_connect_to_cluster(tpu_cluster_resolver)\n",
        "tf.tpu.experimental.initialize_tpu_system(tpu_cluster_resolver)\n",
        "strategy = tf.distribute.experimental.TPUStrategy(tpu_cluster_resolver)\n",
        "\n",
        "def data_augmentation(image):\n",
        "    y = tf.cast(image, tf.float32) / 255.0\n",
        "    y = tf.image.random_flip_left_right(y)\n",
        "    y = tf.pad(y, tf.constant([[2, 2], [2, 2], [0, 0]]), \"REFLECT\")\n",
        "    y = tf.image.random_crop(y, size=[32, 32, 3])\n",
        "    return y\n",
        "\n",
        "def conv_bn_elu(inputs, ch, reps):\n",
        "    y = inputs\n",
        "    for i in range(reps):\n",
        "        y = layers.Conv2D(ch, 5, padding=\"same\")(y)\n",
        "        # y = layers.BatchNormalization()(y)\n",
        "        y = layers.LeakyReLU(alpha=0.05)(y)\n",
        "    return y\n",
        "\n",
        "def create_model():\n",
        "    inputs = layers.Input((32, 32, 3))\n",
        "    y = conv_bn_elu(inputs, 64, 1)\n",
        "    y = layers.MaxPooling2D(pool_size=(2,2), strides=(2,2))(y)\n",
        "    y = layers.Dropout(0.25)(y)\n",
        "    y = conv_bn_elu(y, 128, 1)\n",
        "    y = layers.MaxPooling2D(pool_size=(2,2))(y)\n",
        "    y = layers.Dropout(0.25)(y)\n",
        "    y = conv_bn_elu(y, 256, 1)\n",
        "    y = layers.MaxPooling2D(pool_size=(2,2), strides=(2,2))(y)\n",
        "    y = layers.Dropout(0.25)(y)\n",
        "    y = layers.Flatten()(y)\n",
        "    y = layers.Dense(10, activation=\"softmax\")(y)\n",
        "    return tf.keras.models.Model(inputs, y)\n",
        "\n",
        "def load_dataset():\n",
        "    (X_train, y_train), (X_test, y_test) = tf.keras.datasets.cifar10.load_data()\n",
        "    trainset = tf.data.Dataset.from_tensor_slices((X_train, y_train))\n",
        "    trainset = trainset.map(\n",
        "        lambda image, label: (data_augmentation(image), tf.cast(label, tf.float32))\n",
        "    ).shuffle(buffer_size=1024).repeat().batch(128)\n",
        "\n",
        "    testset = tf.data.Dataset.from_tensor_slices((X_test, y_test))\n",
        "    testset = testset.map(\n",
        "        lambda image, label: (tf.cast(image, tf.float32) / 255.0, tf.cast(label, tf.float32))\n",
        "    ).batch(128)\n",
        "\n",
        "    return trainset, testset\n",
        "\n",
        "def lr_scheduler(epoch):\n",
        "    lrate = 0.001\n",
        "    if epoch > 40:\n",
        "        lrate = 0.0005\n",
        "    if epoch > 60:\n",
        "        lrate = 0.0003\n",
        "    if epoch > 80:\n",
        "        lrate = 0.0001\n",
        "    if epoch > 100:\n",
        "        lrate = 0.00003  \n",
        "    return lrate\n",
        "\n",
        "def main():\n",
        "    trainset, testset = load_dataset()\n",
        "    with strategy.scope():\n",
        "        model = create_model()\n",
        "        loss = tf.keras.losses.SparseCategoricalCrossentropy()\n",
        "        acc = tf.keras.metrics.SparseCategoricalAccuracy()\n",
        "\n",
        "        # callback\n",
        "        scheduler = tf.keras.callbacks.LearningRateScheduler(lr_scheduler)\n",
        "        hist = tf.keras.callbacks.History()\n",
        "        # cp_cnn = ModelCheckpoint(\"best_CNN_cifar10.hdf5\", verbose=1, save_best_only=True)\n",
        "        optim = tf.keras.optimizers.SGD(0.001, momentum=0.9)\n",
        "\n",
        "        # train\n",
        "        model.compile(optimizer=optim, loss=loss, metrics=[acc])\n",
        "        model.summary()\n",
        "        model.fit(trainset, validation_data=testset, epochs=125, steps_per_epoch=50000 // 128,\n",
        "                  callbacks=[scheduler, hist], shuffle=True)\n",
        "    \n",
        "    # model.load_weights(\"best_CNN_cifar10.hdf5\")\n",
        "    history = hist.history\n",
        "    plt.plot(history['sparse_categorical_accuracy'])\n",
        "    plt.plot(history['val_sparse_categorical_accuracy'])\n",
        "    plt.title('accuracy')\n",
        "    plt.ylabel('accuracy')\n",
        "    plt.xlabel('epochs')\n",
        "    plt.legend(['training', 'validation'], loc='lower right')\n",
        "    plt.show()\n",
        "    \n",
        "    plt.plot(history['loss'])\n",
        "    plt.plot(history['val_loss'])\n",
        "    plt.title('loss')\n",
        "    plt.ylabel('loss')\n",
        "    plt.xlabel('epochs')\n",
        "    plt.legend(['training', 'validation'], loc='upper right')\n",
        "    plt.show()\n",
        "\n",
        "    score = model.evaluate(testset, verbose=0)\n",
        "    print(\"Loss: %.2f%%\" % (score[0]*100))\n",
        "    print(\"Accuracy: %.2f%%\" % (score[1]*100))\n",
        "\n",
        "main()"
      ],
      "execution_count": null,
      "outputs": [
        {
          "output_type": "stream",
          "text": [
            "WARNING:tensorflow:TPU system grpc://10.11.152.2:8470 has already been initialized. Reinitializing the TPU can cause previously created variables on TPU to be lost.\n"
          ],
          "name": "stdout"
        },
        {
          "output_type": "stream",
          "text": [
            "WARNING:tensorflow:TPU system grpc://10.11.152.2:8470 has already been initialized. Reinitializing the TPU can cause previously created variables on TPU to be lost.\n"
          ],
          "name": "stderr"
        },
        {
          "output_type": "stream",
          "text": [
            "INFO:tensorflow:Initializing the TPU system: grpc://10.11.152.2:8470\n"
          ],
          "name": "stdout"
        },
        {
          "output_type": "stream",
          "text": [
            "INFO:tensorflow:Initializing the TPU system: grpc://10.11.152.2:8470\n"
          ],
          "name": "stderr"
        },
        {
          "output_type": "stream",
          "text": [
            "INFO:tensorflow:Clearing out eager caches\n"
          ],
          "name": "stdout"
        },
        {
          "output_type": "stream",
          "text": [
            "INFO:tensorflow:Clearing out eager caches\n"
          ],
          "name": "stderr"
        },
        {
          "output_type": "stream",
          "text": [
            "INFO:tensorflow:Finished initializing TPU system.\n"
          ],
          "name": "stdout"
        },
        {
          "output_type": "stream",
          "text": [
            "INFO:tensorflow:Finished initializing TPU system.\n",
            "WARNING:absl:`tf.distribute.experimental.TPUStrategy` is deprecated, please use  the non experimental symbol `tf.distribute.TPUStrategy` instead.\n"
          ],
          "name": "stderr"
        },
        {
          "output_type": "stream",
          "text": [
            "INFO:tensorflow:Found TPU system:\n"
          ],
          "name": "stdout"
        },
        {
          "output_type": "stream",
          "text": [
            "INFO:tensorflow:Found TPU system:\n"
          ],
          "name": "stderr"
        },
        {
          "output_type": "stream",
          "text": [
            "INFO:tensorflow:*** Num TPU Cores: 8\n"
          ],
          "name": "stdout"
        },
        {
          "output_type": "stream",
          "text": [
            "INFO:tensorflow:*** Num TPU Cores: 8\n"
          ],
          "name": "stderr"
        },
        {
          "output_type": "stream",
          "text": [
            "INFO:tensorflow:*** Num TPU Workers: 1\n"
          ],
          "name": "stdout"
        },
        {
          "output_type": "stream",
          "text": [
            "INFO:tensorflow:*** Num TPU Workers: 1\n"
          ],
          "name": "stderr"
        },
        {
          "output_type": "stream",
          "text": [
            "INFO:tensorflow:*** Num TPU Cores Per Worker: 8\n"
          ],
          "name": "stdout"
        },
        {
          "output_type": "stream",
          "text": [
            "INFO:tensorflow:*** Num TPU Cores Per Worker: 8\n"
          ],
          "name": "stderr"
        },
        {
          "output_type": "stream",
          "text": [
            "INFO:tensorflow:*** Available Device: _DeviceAttributes(/job:localhost/replica:0/task:0/device:CPU:0, CPU, 0, 0)\n"
          ],
          "name": "stdout"
        },
        {
          "output_type": "stream",
          "text": [
            "INFO:tensorflow:*** Available Device: _DeviceAttributes(/job:localhost/replica:0/task:0/device:CPU:0, CPU, 0, 0)\n"
          ],
          "name": "stderr"
        },
        {
          "output_type": "stream",
          "text": [
            "INFO:tensorflow:*** Available Device: _DeviceAttributes(/job:localhost/replica:0/task:0/device:XLA_CPU:0, XLA_CPU, 0, 0)\n"
          ],
          "name": "stdout"
        },
        {
          "output_type": "stream",
          "text": [
            "INFO:tensorflow:*** Available Device: _DeviceAttributes(/job:localhost/replica:0/task:0/device:XLA_CPU:0, XLA_CPU, 0, 0)\n"
          ],
          "name": "stderr"
        },
        {
          "output_type": "stream",
          "text": [
            "INFO:tensorflow:*** Available Device: _DeviceAttributes(/job:worker/replica:0/task:0/device:CPU:0, CPU, 0, 0)\n"
          ],
          "name": "stdout"
        },
        {
          "output_type": "stream",
          "text": [
            "INFO:tensorflow:*** Available Device: _DeviceAttributes(/job:worker/replica:0/task:0/device:CPU:0, CPU, 0, 0)\n"
          ],
          "name": "stderr"
        },
        {
          "output_type": "stream",
          "text": [
            "INFO:tensorflow:*** Available Device: _DeviceAttributes(/job:worker/replica:0/task:0/device:TPU:0, TPU, 0, 0)\n"
          ],
          "name": "stdout"
        },
        {
          "output_type": "stream",
          "text": [
            "INFO:tensorflow:*** Available Device: _DeviceAttributes(/job:worker/replica:0/task:0/device:TPU:0, TPU, 0, 0)\n"
          ],
          "name": "stderr"
        },
        {
          "output_type": "stream",
          "text": [
            "INFO:tensorflow:*** Available Device: _DeviceAttributes(/job:worker/replica:0/task:0/device:TPU:1, TPU, 0, 0)\n"
          ],
          "name": "stdout"
        },
        {
          "output_type": "stream",
          "text": [
            "INFO:tensorflow:*** Available Device: _DeviceAttributes(/job:worker/replica:0/task:0/device:TPU:1, TPU, 0, 0)\n"
          ],
          "name": "stderr"
        },
        {
          "output_type": "stream",
          "text": [
            "INFO:tensorflow:*** Available Device: _DeviceAttributes(/job:worker/replica:0/task:0/device:TPU:2, TPU, 0, 0)\n"
          ],
          "name": "stdout"
        },
        {
          "output_type": "stream",
          "text": [
            "INFO:tensorflow:*** Available Device: _DeviceAttributes(/job:worker/replica:0/task:0/device:TPU:2, TPU, 0, 0)\n"
          ],
          "name": "stderr"
        },
        {
          "output_type": "stream",
          "text": [
            "INFO:tensorflow:*** Available Device: _DeviceAttributes(/job:worker/replica:0/task:0/device:TPU:3, TPU, 0, 0)\n"
          ],
          "name": "stdout"
        },
        {
          "output_type": "stream",
          "text": [
            "INFO:tensorflow:*** Available Device: _DeviceAttributes(/job:worker/replica:0/task:0/device:TPU:3, TPU, 0, 0)\n"
          ],
          "name": "stderr"
        },
        {
          "output_type": "stream",
          "text": [
            "INFO:tensorflow:*** Available Device: _DeviceAttributes(/job:worker/replica:0/task:0/device:TPU:4, TPU, 0, 0)\n"
          ],
          "name": "stdout"
        },
        {
          "output_type": "stream",
          "text": [
            "INFO:tensorflow:*** Available Device: _DeviceAttributes(/job:worker/replica:0/task:0/device:TPU:4, TPU, 0, 0)\n"
          ],
          "name": "stderr"
        },
        {
          "output_type": "stream",
          "text": [
            "INFO:tensorflow:*** Available Device: _DeviceAttributes(/job:worker/replica:0/task:0/device:TPU:5, TPU, 0, 0)\n"
          ],
          "name": "stdout"
        },
        {
          "output_type": "stream",
          "text": [
            "INFO:tensorflow:*** Available Device: _DeviceAttributes(/job:worker/replica:0/task:0/device:TPU:5, TPU, 0, 0)\n"
          ],
          "name": "stderr"
        },
        {
          "output_type": "stream",
          "text": [
            "INFO:tensorflow:*** Available Device: _DeviceAttributes(/job:worker/replica:0/task:0/device:TPU:6, TPU, 0, 0)\n"
          ],
          "name": "stdout"
        },
        {
          "output_type": "stream",
          "text": [
            "INFO:tensorflow:*** Available Device: _DeviceAttributes(/job:worker/replica:0/task:0/device:TPU:6, TPU, 0, 0)\n"
          ],
          "name": "stderr"
        },
        {
          "output_type": "stream",
          "text": [
            "INFO:tensorflow:*** Available Device: _DeviceAttributes(/job:worker/replica:0/task:0/device:TPU:7, TPU, 0, 0)\n"
          ],
          "name": "stdout"
        },
        {
          "output_type": "stream",
          "text": [
            "INFO:tensorflow:*** Available Device: _DeviceAttributes(/job:worker/replica:0/task:0/device:TPU:7, TPU, 0, 0)\n"
          ],
          "name": "stderr"
        },
        {
          "output_type": "stream",
          "text": [
            "INFO:tensorflow:*** Available Device: _DeviceAttributes(/job:worker/replica:0/task:0/device:TPU_SYSTEM:0, TPU_SYSTEM, 0, 0)\n"
          ],
          "name": "stdout"
        },
        {
          "output_type": "stream",
          "text": [
            "INFO:tensorflow:*** Available Device: _DeviceAttributes(/job:worker/replica:0/task:0/device:TPU_SYSTEM:0, TPU_SYSTEM, 0, 0)\n"
          ],
          "name": "stderr"
        },
        {
          "output_type": "stream",
          "text": [
            "INFO:tensorflow:*** Available Device: _DeviceAttributes(/job:worker/replica:0/task:0/device:XLA_CPU:0, XLA_CPU, 0, 0)\n"
          ],
          "name": "stdout"
        },
        {
          "output_type": "stream",
          "text": [
            "INFO:tensorflow:*** Available Device: _DeviceAttributes(/job:worker/replica:0/task:0/device:XLA_CPU:0, XLA_CPU, 0, 0)\n"
          ],
          "name": "stderr"
        },
        {
          "output_type": "stream",
          "text": [
            "Model: \"functional_23\"\n",
            "_________________________________________________________________\n",
            "Layer (type)                 Output Shape              Param #   \n",
            "=================================================================\n",
            "input_17 (InputLayer)        [(None, 32, 32, 3)]       0         \n",
            "_________________________________________________________________\n",
            "conv2d_46 (Conv2D)           (None, 32, 32, 64)        4864      \n",
            "_________________________________________________________________\n",
            "batch_normalization_46 (Batc (None, 32, 32, 64)        256       \n",
            "_________________________________________________________________\n",
            "leaky_re_lu_3 (LeakyReLU)    (None, 32, 32, 64)        0         \n",
            "_________________________________________________________________\n",
            "max_pooling2d_30 (MaxPooling (None, 16, 16, 64)        0         \n",
            "_________________________________________________________________\n",
            "dropout_33 (Dropout)         (None, 16, 16, 64)        0         \n",
            "_________________________________________________________________\n",
            "conv2d_47 (Conv2D)           (None, 16, 16, 128)       204928    \n",
            "_________________________________________________________________\n",
            "batch_normalization_47 (Batc (None, 16, 16, 128)       512       \n",
            "_________________________________________________________________\n",
            "leaky_re_lu_4 (LeakyReLU)    (None, 16, 16, 128)       0         \n",
            "_________________________________________________________________\n",
            "max_pooling2d_31 (MaxPooling (None, 8, 8, 128)         0         \n",
            "_________________________________________________________________\n",
            "dropout_34 (Dropout)         (None, 8, 8, 128)         0         \n",
            "_________________________________________________________________\n",
            "conv2d_48 (Conv2D)           (None, 8, 8, 256)         819456    \n",
            "_________________________________________________________________\n",
            "batch_normalization_48 (Batc (None, 8, 8, 256)         1024      \n",
            "_________________________________________________________________\n",
            "leaky_re_lu_5 (LeakyReLU)    (None, 8, 8, 256)         0         \n",
            "_________________________________________________________________\n",
            "max_pooling2d_32 (MaxPooling (None, 4, 4, 256)         0         \n",
            "_________________________________________________________________\n",
            "dropout_35 (Dropout)         (None, 4, 4, 256)         0         \n",
            "_________________________________________________________________\n",
            "flatten_9 (Flatten)          (None, 4096)              0         \n",
            "_________________________________________________________________\n",
            "dense_11 (Dense)             (None, 10)                40970     \n",
            "=================================================================\n",
            "Total params: 1,072,010\n",
            "Trainable params: 1,071,114\n",
            "Non-trainable params: 896\n",
            "_________________________________________________________________\n",
            "Epoch 1/125\n",
            "  1/390 [..............................] - ETA: 1s - loss: 3.4132 - sparse_categorical_accuracy: 0.0703WARNING:tensorflow:Callbacks method `on_train_batch_end` is slow compared to the batch time (batch time: 0.0023s vs `on_train_batch_end` time: 0.0159s). Check your callbacks.\n"
          ],
          "name": "stdout"
        },
        {
          "output_type": "stream",
          "text": [
            "WARNING:tensorflow:Callbacks method `on_train_batch_end` is slow compared to the batch time (batch time: 0.0023s vs `on_train_batch_end` time: 0.0159s). Check your callbacks.\n"
          ],
          "name": "stderr"
        },
        {
          "output_type": "stream",
          "text": [
            "388/390 [============================>.] - ETA: 0s - loss: 1.9092 - sparse_categorical_accuracy: 0.3582WARNING:tensorflow:Callbacks method `on_test_batch_end` is slow compared to the batch time (batch time: 0.0017s vs `on_test_batch_end` time: 0.0123s). Check your callbacks.\n"
          ],
          "name": "stdout"
        },
        {
          "output_type": "stream",
          "text": [
            "WARNING:tensorflow:Callbacks method `on_test_batch_end` is slow compared to the batch time (batch time: 0.0017s vs `on_test_batch_end` time: 0.0123s). Check your callbacks.\n"
          ],
          "name": "stderr"
        },
        {
          "output_type": "stream",
          "text": [
            "390/390 [==============================] - 11s 28ms/step - loss: 1.9080 - sparse_categorical_accuracy: 0.3588 - val_loss: 2.3095 - val_sparse_categorical_accuracy: 0.2218\n",
            "Epoch 2/125\n",
            "390/390 [==============================] - 9s 22ms/step - loss: 1.5267 - sparse_categorical_accuracy: 0.4622 - val_loss: 1.3952 - val_sparse_categorical_accuracy: 0.5080\n",
            "Epoch 3/125\n",
            "390/390 [==============================] - 9s 22ms/step - loss: 1.3628 - sparse_categorical_accuracy: 0.5218 - val_loss: 1.4513 - val_sparse_categorical_accuracy: 0.5008\n",
            "Epoch 4/125\n",
            "390/390 [==============================] - 9s 22ms/step - loss: 1.2563 - sparse_categorical_accuracy: 0.5568 - val_loss: 1.4834 - val_sparse_categorical_accuracy: 0.5087\n",
            "Epoch 5/125\n",
            "390/390 [==============================] - 9s 22ms/step - loss: 1.1852 - sparse_categorical_accuracy: 0.5832 - val_loss: 1.4124 - val_sparse_categorical_accuracy: 0.5067\n",
            "Epoch 6/125\n",
            "390/390 [==============================] - 8s 22ms/step - loss: 1.1302 - sparse_categorical_accuracy: 0.6031 - val_loss: 1.2450 - val_sparse_categorical_accuracy: 0.5703\n",
            "Epoch 7/125\n",
            "390/390 [==============================] - 8s 22ms/step - loss: 1.0874 - sparse_categorical_accuracy: 0.6186 - val_loss: 1.6936 - val_sparse_categorical_accuracy: 0.4467\n",
            "Epoch 8/125\n",
            "390/390 [==============================] - 8s 22ms/step - loss: 1.0476 - sparse_categorical_accuracy: 0.6339 - val_loss: 1.0866 - val_sparse_categorical_accuracy: 0.6287\n",
            "Epoch 9/125\n",
            "390/390 [==============================] - 9s 22ms/step - loss: 1.0130 - sparse_categorical_accuracy: 0.6452 - val_loss: 0.8922 - val_sparse_categorical_accuracy: 0.6899\n",
            "Epoch 10/125\n",
            "390/390 [==============================] - 9s 22ms/step - loss: 0.9841 - sparse_categorical_accuracy: 0.6553 - val_loss: 1.1040 - val_sparse_categorical_accuracy: 0.6098\n",
            "Epoch 11/125\n",
            "390/390 [==============================] - 9s 22ms/step - loss: 0.9610 - sparse_categorical_accuracy: 0.6639 - val_loss: 0.9842 - val_sparse_categorical_accuracy: 0.6599\n",
            "Epoch 12/125\n",
            "390/390 [==============================] - 9s 22ms/step - loss: 0.9355 - sparse_categorical_accuracy: 0.6729 - val_loss: 1.6504 - val_sparse_categorical_accuracy: 0.4776\n",
            "Epoch 13/125\n",
            "390/390 [==============================] - 8s 22ms/step - loss: 0.9061 - sparse_categorical_accuracy: 0.6828 - val_loss: 0.9252 - val_sparse_categorical_accuracy: 0.6861\n",
            "Epoch 14/125\n",
            "390/390 [==============================] - 9s 22ms/step - loss: 0.8960 - sparse_categorical_accuracy: 0.6878 - val_loss: 0.9812 - val_sparse_categorical_accuracy: 0.6545\n",
            "Epoch 15/125\n",
            "390/390 [==============================] - 9s 23ms/step - loss: 0.8753 - sparse_categorical_accuracy: 0.6937 - val_loss: 1.1060 - val_sparse_categorical_accuracy: 0.6247\n",
            "Epoch 16/125\n",
            "390/390 [==============================] - 9s 22ms/step - loss: 0.8648 - sparse_categorical_accuracy: 0.6978 - val_loss: 0.9050 - val_sparse_categorical_accuracy: 0.6905\n",
            "Epoch 17/125\n",
            "390/390 [==============================] - 9s 22ms/step - loss: 0.8413 - sparse_categorical_accuracy: 0.7057 - val_loss: 0.9955 - val_sparse_categorical_accuracy: 0.6625\n",
            "Epoch 18/125\n",
            "390/390 [==============================] - 9s 22ms/step - loss: 0.8306 - sparse_categorical_accuracy: 0.7102 - val_loss: 0.7480 - val_sparse_categorical_accuracy: 0.7404\n",
            "Epoch 19/125\n",
            "390/390 [==============================] - 9s 23ms/step - loss: 0.8205 - sparse_categorical_accuracy: 0.7139 - val_loss: 0.8253 - val_sparse_categorical_accuracy: 0.7080\n",
            "Epoch 20/125\n",
            "390/390 [==============================] - 9s 22ms/step - loss: 0.8024 - sparse_categorical_accuracy: 0.7217 - val_loss: 0.9460 - val_sparse_categorical_accuracy: 0.6744\n",
            "Epoch 21/125\n",
            "390/390 [==============================] - 9s 23ms/step - loss: 0.7920 - sparse_categorical_accuracy: 0.7236 - val_loss: 0.7206 - val_sparse_categorical_accuracy: 0.7525\n",
            "Epoch 22/125\n",
            "390/390 [==============================] - 9s 22ms/step - loss: 0.7812 - sparse_categorical_accuracy: 0.7275 - val_loss: 0.7081 - val_sparse_categorical_accuracy: 0.7558\n",
            "Epoch 23/125\n",
            "390/390 [==============================] - 8s 22ms/step - loss: 0.7770 - sparse_categorical_accuracy: 0.7293 - val_loss: 0.7867 - val_sparse_categorical_accuracy: 0.7209\n",
            "Epoch 24/125\n",
            "390/390 [==============================] - 9s 22ms/step - loss: 0.7664 - sparse_categorical_accuracy: 0.7347 - val_loss: 0.8098 - val_sparse_categorical_accuracy: 0.7098\n",
            "Epoch 25/125\n",
            "390/390 [==============================] - 9s 22ms/step - loss: 0.7569 - sparse_categorical_accuracy: 0.7355 - val_loss: 0.7816 - val_sparse_categorical_accuracy: 0.7284\n",
            "Epoch 26/125\n",
            "390/390 [==============================] - 9s 22ms/step - loss: 0.7462 - sparse_categorical_accuracy: 0.7418 - val_loss: 0.8943 - val_sparse_categorical_accuracy: 0.6891\n",
            "Epoch 27/125\n",
            "390/390 [==============================] - 9s 22ms/step - loss: 0.7358 - sparse_categorical_accuracy: 0.7446 - val_loss: 0.7210 - val_sparse_categorical_accuracy: 0.7460\n",
            "Epoch 28/125\n",
            "390/390 [==============================] - 9s 23ms/step - loss: 0.7240 - sparse_categorical_accuracy: 0.7480 - val_loss: 0.7290 - val_sparse_categorical_accuracy: 0.7475\n",
            "Epoch 29/125\n",
            "390/390 [==============================] - 9s 22ms/step - loss: 0.7205 - sparse_categorical_accuracy: 0.7481 - val_loss: 0.9185 - val_sparse_categorical_accuracy: 0.6874\n",
            "Epoch 30/125\n",
            "390/390 [==============================] - 9s 22ms/step - loss: 0.7173 - sparse_categorical_accuracy: 0.7490 - val_loss: 0.6744 - val_sparse_categorical_accuracy: 0.7633\n",
            "Epoch 31/125\n",
            "390/390 [==============================] - 9s 22ms/step - loss: 0.7076 - sparse_categorical_accuracy: 0.7537 - val_loss: 0.7158 - val_sparse_categorical_accuracy: 0.7580\n",
            "Epoch 32/125\n",
            "390/390 [==============================] - 9s 22ms/step - loss: 0.6965 - sparse_categorical_accuracy: 0.7560 - val_loss: 0.6205 - val_sparse_categorical_accuracy: 0.7856\n",
            "Epoch 33/125\n",
            "390/390 [==============================] - 9s 24ms/step - loss: 0.6883 - sparse_categorical_accuracy: 0.7603 - val_loss: 0.6142 - val_sparse_categorical_accuracy: 0.7868\n",
            "Epoch 34/125\n",
            "390/390 [==============================] - 9s 22ms/step - loss: 0.6794 - sparse_categorical_accuracy: 0.7646 - val_loss: 0.6616 - val_sparse_categorical_accuracy: 0.7719\n",
            "Epoch 35/125\n",
            "390/390 [==============================] - 9s 22ms/step - loss: 0.6727 - sparse_categorical_accuracy: 0.7673 - val_loss: 0.6231 - val_sparse_categorical_accuracy: 0.7842\n",
            "Epoch 36/125\n",
            "390/390 [==============================] - 9s 22ms/step - loss: 0.6659 - sparse_categorical_accuracy: 0.7681 - val_loss: 0.6265 - val_sparse_categorical_accuracy: 0.7836\n",
            "Epoch 37/125\n",
            "390/390 [==============================] - 9s 22ms/step - loss: 0.6616 - sparse_categorical_accuracy: 0.7683 - val_loss: 0.8928 - val_sparse_categorical_accuracy: 0.7123\n",
            "Epoch 38/125\n",
            "390/390 [==============================] - 9s 23ms/step - loss: 0.6514 - sparse_categorical_accuracy: 0.7732 - val_loss: 0.6150 - val_sparse_categorical_accuracy: 0.7857\n",
            "Epoch 39/125\n",
            "390/390 [==============================] - 9s 22ms/step - loss: 0.6458 - sparse_categorical_accuracy: 0.7745 - val_loss: 0.7458 - val_sparse_categorical_accuracy: 0.7459\n",
            "Epoch 40/125\n",
            "390/390 [==============================] - 9s 22ms/step - loss: 0.6470 - sparse_categorical_accuracy: 0.7745 - val_loss: 0.6183 - val_sparse_categorical_accuracy: 0.7855\n",
            "Epoch 41/125\n",
            "390/390 [==============================] - 8s 22ms/step - loss: 0.6407 - sparse_categorical_accuracy: 0.7771 - val_loss: 0.7140 - val_sparse_categorical_accuracy: 0.7569\n",
            "Epoch 42/125\n",
            "390/390 [==============================] - 9s 22ms/step - loss: 0.6144 - sparse_categorical_accuracy: 0.7876 - val_loss: 0.5891 - val_sparse_categorical_accuracy: 0.7954\n",
            "Epoch 43/125\n",
            "390/390 [==============================] - 8s 22ms/step - loss: 0.6061 - sparse_categorical_accuracy: 0.7913 - val_loss: 0.7284 - val_sparse_categorical_accuracy: 0.7515\n",
            "Epoch 44/125\n",
            "390/390 [==============================] - 9s 22ms/step - loss: 0.6075 - sparse_categorical_accuracy: 0.7873 - val_loss: 0.5930 - val_sparse_categorical_accuracy: 0.7951\n",
            "Epoch 45/125\n",
            "390/390 [==============================] - 9s 22ms/step - loss: 0.6015 - sparse_categorical_accuracy: 0.7923 - val_loss: 0.5840 - val_sparse_categorical_accuracy: 0.8013\n",
            "Epoch 46/125\n",
            "390/390 [==============================] - 9s 22ms/step - loss: 0.6044 - sparse_categorical_accuracy: 0.7898 - val_loss: 0.5787 - val_sparse_categorical_accuracy: 0.8009\n",
            "Epoch 47/125\n",
            "390/390 [==============================] - 9s 22ms/step - loss: 0.5955 - sparse_categorical_accuracy: 0.7929 - val_loss: 0.5924 - val_sparse_categorical_accuracy: 0.7966\n",
            "Epoch 48/125\n",
            "390/390 [==============================] - 9s 22ms/step - loss: 0.5969 - sparse_categorical_accuracy: 0.7916 - val_loss: 0.5785 - val_sparse_categorical_accuracy: 0.8005\n",
            "Epoch 49/125\n",
            "390/390 [==============================] - 8s 22ms/step - loss: 0.5946 - sparse_categorical_accuracy: 0.7948 - val_loss: 0.5570 - val_sparse_categorical_accuracy: 0.8075\n",
            "Epoch 50/125\n",
            "390/390 [==============================] - 8s 22ms/step - loss: 0.5875 - sparse_categorical_accuracy: 0.7962 - val_loss: 0.5857 - val_sparse_categorical_accuracy: 0.8006\n",
            "Epoch 51/125\n",
            "390/390 [==============================] - 9s 24ms/step - loss: 0.5908 - sparse_categorical_accuracy: 0.7946 - val_loss: 0.5832 - val_sparse_categorical_accuracy: 0.7992\n",
            "Epoch 52/125\n",
            "390/390 [==============================] - 9s 22ms/step - loss: 0.5835 - sparse_categorical_accuracy: 0.7964 - val_loss: 0.5912 - val_sparse_categorical_accuracy: 0.7959\n",
            "Epoch 53/125\n",
            "390/390 [==============================] - 9s 22ms/step - loss: 0.5829 - sparse_categorical_accuracy: 0.7974 - val_loss: 0.6064 - val_sparse_categorical_accuracy: 0.7897\n",
            "Epoch 54/125\n",
            "390/390 [==============================] - 9s 22ms/step - loss: 0.5796 - sparse_categorical_accuracy: 0.7982 - val_loss: 0.5671 - val_sparse_categorical_accuracy: 0.8079\n",
            "Epoch 55/125\n",
            "390/390 [==============================] - 9s 22ms/step - loss: 0.5771 - sparse_categorical_accuracy: 0.7997 - val_loss: 0.6102 - val_sparse_categorical_accuracy: 0.7929\n",
            "Epoch 56/125\n",
            "390/390 [==============================] - 9s 22ms/step - loss: 0.5776 - sparse_categorical_accuracy: 0.7993 - val_loss: 0.5518 - val_sparse_categorical_accuracy: 0.8102\n",
            "Epoch 57/125\n",
            "390/390 [==============================] - 9s 23ms/step - loss: 0.5707 - sparse_categorical_accuracy: 0.8022 - val_loss: 0.5432 - val_sparse_categorical_accuracy: 0.8110\n",
            "Epoch 58/125\n",
            "390/390 [==============================] - 8s 21ms/step - loss: 0.5758 - sparse_categorical_accuracy: 0.8007 - val_loss: 0.5554 - val_sparse_categorical_accuracy: 0.8060\n",
            "Epoch 59/125\n",
            "390/390 [==============================] - 8s 22ms/step - loss: 0.5709 - sparse_categorical_accuracy: 0.8006 - val_loss: 0.5617 - val_sparse_categorical_accuracy: 0.8086\n",
            "Epoch 60/125\n",
            "390/390 [==============================] - 9s 22ms/step - loss: 0.5690 - sparse_categorical_accuracy: 0.8027 - val_loss: 0.5584 - val_sparse_categorical_accuracy: 0.8095\n",
            "Epoch 61/125\n",
            "390/390 [==============================] - 9s 22ms/step - loss: 0.5633 - sparse_categorical_accuracy: 0.8034 - val_loss: 0.5735 - val_sparse_categorical_accuracy: 0.8048\n",
            "Epoch 62/125\n",
            "390/390 [==============================] - 8s 22ms/step - loss: 0.5580 - sparse_categorical_accuracy: 0.8063 - val_loss: 0.6171 - val_sparse_categorical_accuracy: 0.7903\n",
            "Epoch 63/125\n",
            "390/390 [==============================] - 9s 22ms/step - loss: 0.5516 - sparse_categorical_accuracy: 0.8088 - val_loss: 0.5228 - val_sparse_categorical_accuracy: 0.8164\n",
            "Epoch 64/125\n",
            "390/390 [==============================] - 9s 22ms/step - loss: 0.5524 - sparse_categorical_accuracy: 0.8068 - val_loss: 0.5118 - val_sparse_categorical_accuracy: 0.8248\n",
            "Epoch 65/125\n",
            "390/390 [==============================] - 9s 22ms/step - loss: 0.5483 - sparse_categorical_accuracy: 0.8104 - val_loss: 0.5399 - val_sparse_categorical_accuracy: 0.8144\n",
            "Epoch 66/125\n",
            "390/390 [==============================] - 9s 22ms/step - loss: 0.5486 - sparse_categorical_accuracy: 0.8073 - val_loss: 0.5032 - val_sparse_categorical_accuracy: 0.8282\n",
            "Epoch 67/125\n",
            "390/390 [==============================] - 9s 22ms/step - loss: 0.5493 - sparse_categorical_accuracy: 0.8094 - val_loss: 0.5516 - val_sparse_categorical_accuracy: 0.8121\n",
            "Epoch 68/125\n",
            "390/390 [==============================] - 9s 22ms/step - loss: 0.5440 - sparse_categorical_accuracy: 0.8112 - val_loss: 0.5454 - val_sparse_categorical_accuracy: 0.8121\n",
            "Epoch 69/125\n",
            "390/390 [==============================] - 9s 23ms/step - loss: 0.5463 - sparse_categorical_accuracy: 0.8101 - val_loss: 0.5263 - val_sparse_categorical_accuracy: 0.8168\n",
            "Epoch 70/125\n",
            "390/390 [==============================] - 9s 22ms/step - loss: 0.5427 - sparse_categorical_accuracy: 0.8117 - val_loss: 0.5163 - val_sparse_categorical_accuracy: 0.8205\n",
            "Epoch 71/125\n",
            "390/390 [==============================] - 9s 22ms/step - loss: 0.5422 - sparse_categorical_accuracy: 0.8110 - val_loss: 0.5014 - val_sparse_categorical_accuracy: 0.8274\n",
            "Epoch 72/125\n",
            "390/390 [==============================] - 9s 22ms/step - loss: 0.5382 - sparse_categorical_accuracy: 0.8138 - val_loss: 0.5168 - val_sparse_categorical_accuracy: 0.8227\n",
            "Epoch 73/125\n",
            "390/390 [==============================] - 8s 22ms/step - loss: 0.5415 - sparse_categorical_accuracy: 0.8117 - val_loss: 0.5348 - val_sparse_categorical_accuracy: 0.8167\n",
            "Epoch 74/125\n",
            "390/390 [==============================] - 9s 22ms/step - loss: 0.5398 - sparse_categorical_accuracy: 0.8118 - val_loss: 0.5308 - val_sparse_categorical_accuracy: 0.8196\n",
            "Epoch 75/125\n",
            "390/390 [==============================] - 9s 22ms/step - loss: 0.5366 - sparse_categorical_accuracy: 0.8120 - val_loss: 0.5103 - val_sparse_categorical_accuracy: 0.8266\n",
            "Epoch 76/125\n",
            "390/390 [==============================] - 9s 23ms/step - loss: 0.5370 - sparse_categorical_accuracy: 0.8117 - val_loss: 0.5238 - val_sparse_categorical_accuracy: 0.8199\n",
            "Epoch 77/125\n",
            "390/390 [==============================] - 8s 22ms/step - loss: 0.5399 - sparse_categorical_accuracy: 0.8115 - val_loss: 0.5366 - val_sparse_categorical_accuracy: 0.8162\n",
            "Epoch 78/125\n",
            "390/390 [==============================] - 9s 22ms/step - loss: 0.5312 - sparse_categorical_accuracy: 0.8137 - val_loss: 0.5033 - val_sparse_categorical_accuracy: 0.8280\n",
            "Epoch 79/125\n",
            "390/390 [==============================] - 9s 22ms/step - loss: 0.5295 - sparse_categorical_accuracy: 0.8175 - val_loss: 0.5172 - val_sparse_categorical_accuracy: 0.8234\n",
            "Epoch 80/125\n",
            "390/390 [==============================] - 8s 22ms/step - loss: 0.5311 - sparse_categorical_accuracy: 0.8161 - val_loss: 0.5996 - val_sparse_categorical_accuracy: 0.7939\n",
            "Epoch 81/125\n",
            "390/390 [==============================] - 9s 22ms/step - loss: 0.5321 - sparse_categorical_accuracy: 0.8143 - val_loss: 0.5222 - val_sparse_categorical_accuracy: 0.8206\n",
            "Epoch 82/125\n",
            "390/390 [==============================] - 8s 22ms/step - loss: 0.5215 - sparse_categorical_accuracy: 0.8185 - val_loss: 0.5162 - val_sparse_categorical_accuracy: 0.8226\n",
            "Epoch 83/125\n",
            "390/390 [==============================] - 8s 21ms/step - loss: 0.5257 - sparse_categorical_accuracy: 0.8191 - val_loss: 0.5356 - val_sparse_categorical_accuracy: 0.8183\n",
            "Epoch 84/125\n",
            "390/390 [==============================] - 8s 22ms/step - loss: 0.5206 - sparse_categorical_accuracy: 0.8200 - val_loss: 0.5071 - val_sparse_categorical_accuracy: 0.8265\n",
            "Epoch 85/125\n",
            "390/390 [==============================] - 9s 22ms/step - loss: 0.5170 - sparse_categorical_accuracy: 0.8211 - val_loss: 0.5403 - val_sparse_categorical_accuracy: 0.8131\n",
            "Epoch 86/125\n",
            "390/390 [==============================] - 8s 22ms/step - loss: 0.5216 - sparse_categorical_accuracy: 0.8186 - val_loss: 0.5222 - val_sparse_categorical_accuracy: 0.8231\n",
            "Epoch 87/125\n",
            "390/390 [==============================] - 9s 23ms/step - loss: 0.5164 - sparse_categorical_accuracy: 0.8198 - val_loss: 0.5109 - val_sparse_categorical_accuracy: 0.8257\n",
            "Epoch 88/125\n",
            "390/390 [==============================] - 9s 22ms/step - loss: 0.5203 - sparse_categorical_accuracy: 0.8204 - val_loss: 0.5056 - val_sparse_categorical_accuracy: 0.8275\n",
            "Epoch 89/125\n",
            "390/390 [==============================] - 8s 22ms/step - loss: 0.5221 - sparse_categorical_accuracy: 0.8188 - val_loss: 0.5191 - val_sparse_categorical_accuracy: 0.8243\n",
            "Epoch 90/125\n",
            "390/390 [==============================] - 9s 22ms/step - loss: 0.5170 - sparse_categorical_accuracy: 0.8206 - val_loss: 0.5284 - val_sparse_categorical_accuracy: 0.8207\n",
            "Epoch 91/125\n",
            "390/390 [==============================] - 9s 22ms/step - loss: 0.5140 - sparse_categorical_accuracy: 0.8217 - val_loss: 0.5362 - val_sparse_categorical_accuracy: 0.8160\n",
            "Epoch 92/125\n",
            "390/390 [==============================] - 9s 22ms/step - loss: 0.5162 - sparse_categorical_accuracy: 0.8217 - val_loss: 0.5169 - val_sparse_categorical_accuracy: 0.8228\n",
            "Epoch 93/125\n",
            "390/390 [==============================] - 9s 23ms/step - loss: 0.5197 - sparse_categorical_accuracy: 0.8189 - val_loss: 0.5003 - val_sparse_categorical_accuracy: 0.8290\n",
            "Epoch 94/125\n",
            "390/390 [==============================] - 9s 22ms/step - loss: 0.5139 - sparse_categorical_accuracy: 0.8214 - val_loss: 0.5304 - val_sparse_categorical_accuracy: 0.8199\n",
            "Epoch 95/125\n",
            "390/390 [==============================] - 9s 22ms/step - loss: 0.5208 - sparse_categorical_accuracy: 0.8188 - val_loss: 0.5184 - val_sparse_categorical_accuracy: 0.8234\n",
            "Epoch 96/125\n",
            "390/390 [==============================] - 9s 23ms/step - loss: 0.5128 - sparse_categorical_accuracy: 0.8210 - val_loss: 0.5133 - val_sparse_categorical_accuracy: 0.8244\n",
            "Epoch 97/125\n",
            "390/390 [==============================] - 9s 22ms/step - loss: 0.5106 - sparse_categorical_accuracy: 0.8231 - val_loss: 0.4855 - val_sparse_categorical_accuracy: 0.8340\n",
            "Epoch 98/125\n",
            "390/390 [==============================] - 8s 22ms/step - loss: 0.5173 - sparse_categorical_accuracy: 0.8203 - val_loss: 0.5027 - val_sparse_categorical_accuracy: 0.8287\n",
            "Epoch 99/125\n",
            "390/390 [==============================] - 9s 22ms/step - loss: 0.5156 - sparse_categorical_accuracy: 0.8203 - val_loss: 0.5184 - val_sparse_categorical_accuracy: 0.8222\n",
            "Epoch 100/125\n",
            "390/390 [==============================] - 9s 22ms/step - loss: 0.5086 - sparse_categorical_accuracy: 0.8229 - val_loss: 0.5031 - val_sparse_categorical_accuracy: 0.8292\n",
            "Epoch 101/125\n",
            "390/390 [==============================] - 9s 22ms/step - loss: 0.5128 - sparse_categorical_accuracy: 0.8213 - val_loss: 0.5020 - val_sparse_categorical_accuracy: 0.8282\n",
            "Epoch 102/125\n",
            "390/390 [==============================] - 9s 22ms/step - loss: 0.5153 - sparse_categorical_accuracy: 0.8206 - val_loss: 0.4919 - val_sparse_categorical_accuracy: 0.8324\n",
            "Epoch 103/125\n",
            "390/390 [==============================] - 9s 22ms/step - loss: 0.5108 - sparse_categorical_accuracy: 0.8244 - val_loss: 0.4975 - val_sparse_categorical_accuracy: 0.8309\n",
            "Epoch 104/125\n",
            "390/390 [==============================] - 9s 22ms/step - loss: 0.5069 - sparse_categorical_accuracy: 0.8240 - val_loss: 0.4972 - val_sparse_categorical_accuracy: 0.8316\n",
            "Epoch 105/125\n",
            "390/390 [==============================] - 9s 24ms/step - loss: 0.5133 - sparse_categorical_accuracy: 0.8229 - val_loss: 0.4955 - val_sparse_categorical_accuracy: 0.8319\n",
            "Epoch 106/125\n",
            "390/390 [==============================] - 9s 22ms/step - loss: 0.5042 - sparse_categorical_accuracy: 0.8258 - val_loss: 0.4985 - val_sparse_categorical_accuracy: 0.8310\n",
            "Epoch 107/125\n",
            "390/390 [==============================] - 9s 23ms/step - loss: 0.5071 - sparse_categorical_accuracy: 0.8235 - val_loss: 0.4904 - val_sparse_categorical_accuracy: 0.8336\n",
            "Epoch 108/125\n",
            "390/390 [==============================] - 9s 22ms/step - loss: 0.5137 - sparse_categorical_accuracy: 0.8206 - val_loss: 0.4913 - val_sparse_categorical_accuracy: 0.8322\n",
            "Epoch 109/125\n",
            "390/390 [==============================] - 9s 23ms/step - loss: 0.5084 - sparse_categorical_accuracy: 0.8235 - val_loss: 0.4839 - val_sparse_categorical_accuracy: 0.8342\n",
            "Epoch 110/125\n",
            "390/390 [==============================] - 9s 23ms/step - loss: 0.5109 - sparse_categorical_accuracy: 0.8232 - val_loss: 0.5035 - val_sparse_categorical_accuracy: 0.8288\n",
            "Epoch 111/125\n",
            "390/390 [==============================] - 9s 22ms/step - loss: 0.5120 - sparse_categorical_accuracy: 0.8240 - val_loss: 0.4891 - val_sparse_categorical_accuracy: 0.8321\n",
            "Epoch 112/125\n",
            "390/390 [==============================] - 9s 23ms/step - loss: 0.5100 - sparse_categorical_accuracy: 0.8212 - val_loss: 0.4976 - val_sparse_categorical_accuracy: 0.8282\n",
            "Epoch 113/125\n",
            "390/390 [==============================] - 9s 22ms/step - loss: 0.5074 - sparse_categorical_accuracy: 0.8237 - val_loss: 0.4918 - val_sparse_categorical_accuracy: 0.8317\n",
            "Epoch 114/125\n",
            "390/390 [==============================] - 9s 22ms/step - loss: 0.5098 - sparse_categorical_accuracy: 0.8217 - val_loss: 0.4998 - val_sparse_categorical_accuracy: 0.8299\n",
            "Epoch 115/125\n",
            "390/390 [==============================] - 9s 22ms/step - loss: 0.5090 - sparse_categorical_accuracy: 0.8231 - val_loss: 0.4949 - val_sparse_categorical_accuracy: 0.8305\n",
            "Epoch 116/125\n",
            "390/390 [==============================] - 9s 22ms/step - loss: 0.5131 - sparse_categorical_accuracy: 0.8225 - val_loss: 0.4963 - val_sparse_categorical_accuracy: 0.8308\n",
            "Epoch 117/125\n",
            "390/390 [==============================] - 8s 22ms/step - loss: 0.5054 - sparse_categorical_accuracy: 0.8241 - val_loss: 0.4947 - val_sparse_categorical_accuracy: 0.8302\n",
            "Epoch 118/125\n",
            "390/390 [==============================] - 8s 22ms/step - loss: 0.5080 - sparse_categorical_accuracy: 0.8233 - val_loss: 0.4891 - val_sparse_categorical_accuracy: 0.8330\n",
            "Epoch 119/125\n",
            "390/390 [==============================] - 9s 22ms/step - loss: 0.5053 - sparse_categorical_accuracy: 0.8253 - val_loss: 0.4904 - val_sparse_categorical_accuracy: 0.8326\n",
            "Epoch 120/125\n",
            "390/390 [==============================] - 9s 22ms/step - loss: 0.5095 - sparse_categorical_accuracy: 0.8239 - val_loss: 0.4919 - val_sparse_categorical_accuracy: 0.8327\n",
            "Epoch 121/125\n",
            "390/390 [==============================] - 9s 23ms/step - loss: 0.5061 - sparse_categorical_accuracy: 0.8249 - val_loss: 0.4920 - val_sparse_categorical_accuracy: 0.8322\n",
            "Epoch 122/125\n",
            "390/390 [==============================] - 9s 22ms/step - loss: 0.5092 - sparse_categorical_accuracy: 0.8232 - val_loss: 0.4904 - val_sparse_categorical_accuracy: 0.8328\n",
            "Epoch 123/125\n",
            "390/390 [==============================] - 9s 24ms/step - loss: 0.5081 - sparse_categorical_accuracy: 0.8237 - val_loss: 0.4895 - val_sparse_categorical_accuracy: 0.8313\n",
            "Epoch 124/125\n",
            "390/390 [==============================] - 9s 22ms/step - loss: 0.5050 - sparse_categorical_accuracy: 0.8248 - val_loss: 0.4984 - val_sparse_categorical_accuracy: 0.8318\n",
            "Epoch 125/125\n",
            "390/390 [==============================] - 9s 22ms/step - loss: 0.5081 - sparse_categorical_accuracy: 0.8235 - val_loss: 0.5009 - val_sparse_categorical_accuracy: 0.8285\n"
          ],
          "name": "stdout"
        },
        {
          "output_type": "display_data",
          "data": {
            "image/png": "[encoded data removed]",
            "text/plain": [
              "<Figure size 432x288 with 1 Axes>"
            ]
          },
          "metadata": {
            "tags": [],
            "needs_background": "light"
          }
        },
        {
          "output_type": "display_data",
          "data": {
            "image/png": "[encoded data removed]",
            "text/plain": [
              "<Figure size 432x288 with 1 Axes>"
            ]
          },
          "metadata": {
            "tags": [],
            "needs_background": "light"
          }
        },
        {
          "output_type": "stream",
          "text": [
            "Loss: 50.09%\n",
            "Accuracy: 82.85%\n"
          ],
          "name": "stdout"
        }
      ]
    },
    {
      "cell_type": "markdown",
      "metadata": {
        "id": "s8-4I8EzYEla"
      },
      "source": [
        "### **Best 3-block CNN Configuration**"
      ]
    },
    {
      "cell_type": "code",
      "metadata": {
        "id": "ssCl-Gv95m3t",
        "outputId": "30a9489b-8e10-45bf-994a-208037c0e7c3",
        "colab": {
          "base_uri": "https://localhost:8080/",
          "height": 1000
        }
      },
      "source": [
        "import tensorflow as tf\n",
        "import os\n",
        "import tensorflow.keras.layers as layers\n",
        "import numpy as np\n",
        "import pickle\n",
        "import matplotlib.pyplot as plt\n",
        "from keras.callbacks import ModelCheckpoint\n",
        "import math\n",
        "\n",
        "# TPU\n",
        "tpu_grpc_url = \"grpc://\" + os.environ[\"COLAB_TPU_ADDR\"]\n",
        "tpu_cluster_resolver = tf.distribute.cluster_resolver.TPUClusterResolver(tpu_grpc_url)\n",
        "tf.config.experimental_connect_to_cluster(tpu_cluster_resolver)\n",
        "tf.tpu.experimental.initialize_tpu_system(tpu_cluster_resolver)\n",
        "strategy = tf.distribute.experimental.TPUStrategy(tpu_cluster_resolver)\n",
        "\n",
        "def data_augmentation(image):\n",
        "    y = tf.cast(image, tf.float32) / 255.0\n",
        "    y = tf.image.random_flip_left_right(y)\n",
        "    y = tf.pad(y, tf.constant([[2, 2], [2, 2], [0, 0]]), \"REFLECT\")\n",
        "    y = tf.image.random_crop(y, size=[32, 32, 3])\n",
        "    return y\n",
        "\n",
        "def conv_bn_elu(inputs, ch, reps):\n",
        "    y = inputs\n",
        "    for i in range(reps):\n",
        "        y = layers.Conv2D(ch, 3, padding=\"same\")(y)\n",
        "        y = layers.BatchNormalization()(y)\n",
        "        y = layers.Activation('elu')(y)\n",
        "    return y\n",
        "\n",
        "def create_model():\n",
        "    inputs = layers.Input((32, 32, 3))\n",
        "    y = conv_bn_elu(inputs, 64, 3)\n",
        "    y = layers.AveragePooling2D(2)(y)\n",
        "    #y = layers.Dropout(0.25)(y)\n",
        "    y = conv_bn_elu(y, 128, 3)\n",
        "    y = layers.AveragePooling2D(2)(y)\n",
        "    #y = layers.Dropout(0.25)(y)\n",
        "    y = conv_bn_elu(y, 256, 3)\n",
        "    y = layers.GlobalAveragePooling2D()(y)\n",
        "    y = layers.Dropout(0.25)(y)\n",
        "    y = layers.Flatten()(y)\n",
        "    y = layers.Dense(10, activation=\"softmax\")(y)\n",
        "    return tf.keras.models.Model(inputs, y)\n",
        "\n",
        "def load_dataset():\n",
        "    (X_train, y_train), (X_test, y_test) = tf.keras.datasets.cifar10.load_data()\n",
        "    trainset = tf.data.Dataset.from_tensor_slices((X_train, y_train))\n",
        "    trainset = trainset.map(\n",
        "        lambda image, label: (data_augmentation(image), tf.cast(label, tf.float32))\n",
        "    ).shuffle(buffer_size=1024).repeat().batch(128)\n",
        "\n",
        "    testset = tf.data.Dataset.from_tensor_slices((X_test, y_test))\n",
        "    testset = testset.map(\n",
        "        lambda image, label: (tf.cast(image, tf.float32) / 255.0, tf.cast(label, tf.float32))\n",
        "    ).batch(128)\n",
        "\n",
        "    return trainset, testset\n",
        "\n",
        "def lr_scheduler(epoch):\n",
        "    lrate = 0.001\n",
        "    # drop = 0.5\n",
        "    # epochs_drop = 10.0\n",
        "    # lrate = ilrate * math.pow(drop, math.floor((1+epoch)/epochs_drop))\n",
        "    if epoch > 40:\n",
        "        lrate = 0.0005\n",
        "    if epoch > 60:\n",
        "        lrate = 0.0003\n",
        "    if epoch > 80:\n",
        "        lrate = 0.0001\n",
        "    if epoch > 100:\n",
        "        lrate = 0.00003\n",
        "    if epoch > 120:\n",
        "        lrate = 0.00005\n",
        "    if epoch > 140:\n",
        "        lrate = 0.000001\n",
        "    if epoch > 160:\n",
        "        lrate = 0.000003\n",
        "    if epoch > 180:\n",
        "        lrate = 0.000005   \n",
        "    if epoch > 200:\n",
        "        lrate = 0.0000001   \n",
        "    return lrate\n",
        "\n",
        "def main():\n",
        "    trainset, testset = load_dataset()\n",
        "    with strategy.scope():\n",
        "        model = create_model()\n",
        "        loss = tf.keras.losses.SparseCategoricalCrossentropy()\n",
        "        acc = tf.keras.metrics.SparseCategoricalAccuracy()\n",
        "\n",
        "        # callback\n",
        "        scheduler = tf.keras.callbacks.LearningRateScheduler(lr_scheduler)\n",
        "        hist = tf.keras.callbacks.History()\n",
        "        # cp_cnn = ModelCheckpoint(\"best_CNN_cifar10.hdf5\", verbose=1, save_best_only=True)\n",
        "        optim = tf.keras.optimizers.SGD(0.001, momentum=0.9)\n",
        "\n",
        "        # train\n",
        "        model.compile(optimizer=optim, loss=loss, metrics=[acc])\n",
        "        model.summary()\n",
        "        model.fit(trainset, validation_data=testset, epochs=250, steps_per_epoch=50000 // 128,\n",
        "                  callbacks=[scheduler, hist], shuffle=True)\n",
        "    \n",
        "    # model.load_weights(\"best_CNN_cifar10.hdf5\")\n",
        "    history = hist.history\n",
        "    plt.plot(history['sparse_categorical_accuracy'])\n",
        "    plt.plot(history['val_sparse_categorical_accuracy'])\n",
        "    plt.title('accuracy')\n",
        "    plt.ylabel('accuracy')\n",
        "    plt.xlabel('epochs')\n",
        "    plt.legend(['training', 'validation'], loc='lower right')\n",
        "    plt.show()\n",
        "    \n",
        "    plt.plot(history['loss'])\n",
        "    plt.plot(history['val_loss'])\n",
        "    plt.title('loss')\n",
        "    plt.ylabel('loss')\n",
        "    plt.xlabel('epochs')\n",
        "    plt.legend(['training', 'validation'], loc='upper right')\n",
        "    plt.show()\n",
        "\n",
        "    score = model.evaluate(testset, verbose=0)\n",
        "    print(\"Loss: %.2f%%\" % (score[0]*100))\n",
        "    print(\"Accuracy: %.2f%%\" % (score[1]*100))\n",
        "\n",
        "main()"
      ],
      "execution_count": null,
      "outputs": [
        {
          "output_type": "stream",
          "text": [
            "WARNING:tensorflow:TPU system grpc://10.11.152.2:8470 has already been initialized. Reinitializing the TPU can cause previously created variables on TPU to be lost.\n"
          ],
          "name": "stdout"
        },
        {
          "output_type": "stream",
          "text": [
            "WARNING:tensorflow:TPU system grpc://10.11.152.2:8470 has already been initialized. Reinitializing the TPU can cause previously created variables on TPU to be lost.\n"
          ],
          "name": "stderr"
        },
        {
          "output_type": "stream",
          "text": [
            "INFO:tensorflow:Initializing the TPU system: grpc://10.11.152.2:8470\n"
          ],
          "name": "stdout"
        },
        {
          "output_type": "stream",
          "text": [
            "INFO:tensorflow:Initializing the TPU system: grpc://10.11.152.2:8470\n"
          ],
          "name": "stderr"
        },
        {
          "output_type": "stream",
          "text": [
            "INFO:tensorflow:Clearing out eager caches\n"
          ],
          "name": "stdout"
        },
        {
          "output_type": "stream",
          "text": [
            "INFO:tensorflow:Clearing out eager caches\n"
          ],
          "name": "stderr"
        },
        {
          "output_type": "stream",
          "text": [
            "INFO:tensorflow:Finished initializing TPU system.\n"
          ],
          "name": "stdout"
        },
        {
          "output_type": "stream",
          "text": [
            "INFO:tensorflow:Finished initializing TPU system.\n",
            "WARNING:absl:`tf.distribute.experimental.TPUStrategy` is deprecated, please use  the non experimental symbol `tf.distribute.TPUStrategy` instead.\n"
          ],
          "name": "stderr"
        },
        {
          "output_type": "stream",
          "text": [
            "INFO:tensorflow:Found TPU system:\n"
          ],
          "name": "stdout"
        },
        {
          "output_type": "stream",
          "text": [
            "INFO:tensorflow:Found TPU system:\n"
          ],
          "name": "stderr"
        },
        {
          "output_type": "stream",
          "text": [
            "INFO:tensorflow:*** Num TPU Cores: 8\n"
          ],
          "name": "stdout"
        },
        {
          "output_type": "stream",
          "text": [
            "INFO:tensorflow:*** Num TPU Cores: 8\n"
          ],
          "name": "stderr"
        },
        {
          "output_type": "stream",
          "text": [
            "INFO:tensorflow:*** Num TPU Workers: 1\n"
          ],
          "name": "stdout"
        },
        {
          "output_type": "stream",
          "text": [
            "INFO:tensorflow:*** Num TPU Workers: 1\n"
          ],
          "name": "stderr"
        },
        {
          "output_type": "stream",
          "text": [
            "INFO:tensorflow:*** Num TPU Cores Per Worker: 8\n"
          ],
          "name": "stdout"
        },
        {
          "output_type": "stream",
          "text": [
            "INFO:tensorflow:*** Num TPU Cores Per Worker: 8\n"
          ],
          "name": "stderr"
        },
        {
          "output_type": "stream",
          "text": [
            "INFO:tensorflow:*** Available Device: _DeviceAttributes(/job:localhost/replica:0/task:0/device:CPU:0, CPU, 0, 0)\n"
          ],
          "name": "stdout"
        },
        {
          "output_type": "stream",
          "text": [
            "INFO:tensorflow:*** Available Device: _DeviceAttributes(/job:localhost/replica:0/task:0/device:CPU:0, CPU, 0, 0)\n"
          ],
          "name": "stderr"
        },
        {
          "output_type": "stream",
          "text": [
            "INFO:tensorflow:*** Available Device: _DeviceAttributes(/job:localhost/replica:0/task:0/device:XLA_CPU:0, XLA_CPU, 0, 0)\n"
          ],
          "name": "stdout"
        },
        {
          "output_type": "stream",
          "text": [
            "INFO:tensorflow:*** Available Device: _DeviceAttributes(/job:localhost/replica:0/task:0/device:XLA_CPU:0, XLA_CPU, 0, 0)\n"
          ],
          "name": "stderr"
        },
        {
          "output_type": "stream",
          "text": [
            "INFO:tensorflow:*** Available Device: _DeviceAttributes(/job:worker/replica:0/task:0/device:CPU:0, CPU, 0, 0)\n"
          ],
          "name": "stdout"
        },
        {
          "output_type": "stream",
          "text": [
            "INFO:tensorflow:*** Available Device: _DeviceAttributes(/job:worker/replica:0/task:0/device:CPU:0, CPU, 0, 0)\n"
          ],
          "name": "stderr"
        },
        {
          "output_type": "stream",
          "text": [
            "INFO:tensorflow:*** Available Device: _DeviceAttributes(/job:worker/replica:0/task:0/device:TPU:0, TPU, 0, 0)\n"
          ],
          "name": "stdout"
        },
        {
          "output_type": "stream",
          "text": [
            "INFO:tensorflow:*** Available Device: _DeviceAttributes(/job:worker/replica:0/task:0/device:TPU:0, TPU, 0, 0)\n"
          ],
          "name": "stderr"
        },
        {
          "output_type": "stream",
          "text": [
            "INFO:tensorflow:*** Available Device: _DeviceAttributes(/job:worker/replica:0/task:0/device:TPU:1, TPU, 0, 0)\n"
          ],
          "name": "stdout"
        },
        {
          "output_type": "stream",
          "text": [
            "INFO:tensorflow:*** Available Device: _DeviceAttributes(/job:worker/replica:0/task:0/device:TPU:1, TPU, 0, 0)\n"
          ],
          "name": "stderr"
        },
        {
          "output_type": "stream",
          "text": [
            "INFO:tensorflow:*** Available Device: _DeviceAttributes(/job:worker/replica:0/task:0/device:TPU:2, TPU, 0, 0)\n"
          ],
          "name": "stdout"
        },
        {
          "output_type": "stream",
          "text": [
            "INFO:tensorflow:*** Available Device: _DeviceAttributes(/job:worker/replica:0/task:0/device:TPU:2, TPU, 0, 0)\n"
          ],
          "name": "stderr"
        },
        {
          "output_type": "stream",
          "text": [
            "INFO:tensorflow:*** Available Device: _DeviceAttributes(/job:worker/replica:0/task:0/device:TPU:3, TPU, 0, 0)\n"
          ],
          "name": "stdout"
        },
        {
          "output_type": "stream",
          "text": [
            "INFO:tensorflow:*** Available Device: _DeviceAttributes(/job:worker/replica:0/task:0/device:TPU:3, TPU, 0, 0)\n"
          ],
          "name": "stderr"
        },
        {
          "output_type": "stream",
          "text": [
            "INFO:tensorflow:*** Available Device: _DeviceAttributes(/job:worker/replica:0/task:0/device:TPU:4, TPU, 0, 0)\n"
          ],
          "name": "stdout"
        },
        {
          "output_type": "stream",
          "text": [
            "INFO:tensorflow:*** Available Device: _DeviceAttributes(/job:worker/replica:0/task:0/device:TPU:4, TPU, 0, 0)\n"
          ],
          "name": "stderr"
        },
        {
          "output_type": "stream",
          "text": [
            "INFO:tensorflow:*** Available Device: _DeviceAttributes(/job:worker/replica:0/task:0/device:TPU:5, TPU, 0, 0)\n"
          ],
          "name": "stdout"
        },
        {
          "output_type": "stream",
          "text": [
            "INFO:tensorflow:*** Available Device: _DeviceAttributes(/job:worker/replica:0/task:0/device:TPU:5, TPU, 0, 0)\n"
          ],
          "name": "stderr"
        },
        {
          "output_type": "stream",
          "text": [
            "INFO:tensorflow:*** Available Device: _DeviceAttributes(/job:worker/replica:0/task:0/device:TPU:6, TPU, 0, 0)\n"
          ],
          "name": "stdout"
        },
        {
          "output_type": "stream",
          "text": [
            "INFO:tensorflow:*** Available Device: _DeviceAttributes(/job:worker/replica:0/task:0/device:TPU:6, TPU, 0, 0)\n"
          ],
          "name": "stderr"
        },
        {
          "output_type": "stream",
          "text": [
            "INFO:tensorflow:*** Available Device: _DeviceAttributes(/job:worker/replica:0/task:0/device:TPU:7, TPU, 0, 0)\n"
          ],
          "name": "stdout"
        },
        {
          "output_type": "stream",
          "text": [
            "INFO:tensorflow:*** Available Device: _DeviceAttributes(/job:worker/replica:0/task:0/device:TPU:7, TPU, 0, 0)\n"
          ],
          "name": "stderr"
        },
        {
          "output_type": "stream",
          "text": [
            "INFO:tensorflow:*** Available Device: _DeviceAttributes(/job:worker/replica:0/task:0/device:TPU_SYSTEM:0, TPU_SYSTEM, 0, 0)\n"
          ],
          "name": "stdout"
        },
        {
          "output_type": "stream",
          "text": [
            "INFO:tensorflow:*** Available Device: _DeviceAttributes(/job:worker/replica:0/task:0/device:TPU_SYSTEM:0, TPU_SYSTEM, 0, 0)\n"
          ],
          "name": "stderr"
        },
        {
          "output_type": "stream",
          "text": [
            "INFO:tensorflow:*** Available Device: _DeviceAttributes(/job:worker/replica:0/task:0/device:XLA_CPU:0, XLA_CPU, 0, 0)\n"
          ],
          "name": "stdout"
        },
        {
          "output_type": "stream",
          "text": [
            "INFO:tensorflow:*** Available Device: _DeviceAttributes(/job:worker/replica:0/task:0/device:XLA_CPU:0, XLA_CPU, 0, 0)\n"
          ],
          "name": "stderr"
        },
        {
          "output_type": "stream",
          "text": [
            "Model: \"functional_39\"\n",
            "_________________________________________________________________\n",
            "Layer (type)                 Output Shape              Param #   \n",
            "=================================================================\n",
            "input_25 (InputLayer)        [(None, 32, 32, 3)]       0         \n",
            "_________________________________________________________________\n",
            "conv2d_70 (Conv2D)           (None, 32, 32, 64)        1792      \n",
            "_________________________________________________________________\n",
            "batch_normalization_58 (Batc (None, 32, 32, 64)        256       \n",
            "_________________________________________________________________\n",
            "activation_46 (Activation)   (None, 32, 32, 64)        0         \n",
            "_________________________________________________________________\n",
            "conv2d_71 (Conv2D)           (None, 32, 32, 64)        36928     \n",
            "_________________________________________________________________\n",
            "batch_normalization_59 (Batc (None, 32, 32, 64)        256       \n",
            "_________________________________________________________________\n",
            "activation_47 (Activation)   (None, 32, 32, 64)        0         \n",
            "_________________________________________________________________\n",
            "conv2d_72 (Conv2D)           (None, 32, 32, 64)        36928     \n",
            "_________________________________________________________________\n",
            "batch_normalization_60 (Batc (None, 32, 32, 64)        256       \n",
            "_________________________________________________________________\n",
            "activation_48 (Activation)   (None, 32, 32, 64)        0         \n",
            "_________________________________________________________________\n",
            "average_pooling2d_8 (Average (None, 16, 16, 64)        0         \n",
            "_________________________________________________________________\n",
            "conv2d_73 (Conv2D)           (None, 16, 16, 128)       73856     \n",
            "_________________________________________________________________\n",
            "batch_normalization_61 (Batc (None, 16, 16, 128)       512       \n",
            "_________________________________________________________________\n",
            "activation_49 (Activation)   (None, 16, 16, 128)       0         \n",
            "_________________________________________________________________\n",
            "conv2d_74 (Conv2D)           (None, 16, 16, 128)       147584    \n",
            "_________________________________________________________________\n",
            "batch_normalization_62 (Batc (None, 16, 16, 128)       512       \n",
            "_________________________________________________________________\n",
            "activation_50 (Activation)   (None, 16, 16, 128)       0         \n",
            "_________________________________________________________________\n",
            "conv2d_75 (Conv2D)           (None, 16, 16, 128)       147584    \n",
            "_________________________________________________________________\n",
            "batch_normalization_63 (Batc (None, 16, 16, 128)       512       \n",
            "_________________________________________________________________\n",
            "activation_51 (Activation)   (None, 16, 16, 128)       0         \n",
            "_________________________________________________________________\n",
            "average_pooling2d_9 (Average (None, 8, 8, 128)         0         \n",
            "_________________________________________________________________\n",
            "conv2d_76 (Conv2D)           (None, 8, 8, 256)         295168    \n",
            "_________________________________________________________________\n",
            "batch_normalization_64 (Batc (None, 8, 8, 256)         1024      \n",
            "_________________________________________________________________\n",
            "activation_52 (Activation)   (None, 8, 8, 256)         0         \n",
            "_________________________________________________________________\n",
            "conv2d_77 (Conv2D)           (None, 8, 8, 256)         590080    \n",
            "_________________________________________________________________\n",
            "batch_normalization_65 (Batc (None, 8, 8, 256)         1024      \n",
            "_________________________________________________________________\n",
            "activation_53 (Activation)   (None, 8, 8, 256)         0         \n",
            "_________________________________________________________________\n",
            "conv2d_78 (Conv2D)           (None, 8, 8, 256)         590080    \n",
            "_________________________________________________________________\n",
            "batch_normalization_66 (Batc (None, 8, 8, 256)         1024      \n",
            "_________________________________________________________________\n",
            "activation_54 (Activation)   (None, 8, 8, 256)         0         \n",
            "_________________________________________________________________\n",
            "global_average_pooling2d_4 ( (None, 256)               0         \n",
            "_________________________________________________________________\n",
            "dropout_57 (Dropout)         (None, 256)               0         \n",
            "_________________________________________________________________\n",
            "flatten_17 (Flatten)         (None, 256)               0         \n",
            "_________________________________________________________________\n",
            "dense_19 (Dense)             (None, 10)                2570      \n",
            "=================================================================\n",
            "Total params: 1,927,946\n",
            "Trainable params: 1,925,258\n",
            "Non-trainable params: 2,688\n",
            "_________________________________________________________________\n",
            "Epoch 1/250\n",
            "  1/390 [..............................] - ETA: 1s - loss: 2.4194 - sparse_categorical_accuracy: 0.1172WARNING:tensorflow:Callbacks method `on_train_batch_end` is slow compared to the batch time (batch time: 0.0030s vs `on_train_batch_end` time: 0.0222s). Check your callbacks.\n"
          ],
          "name": "stdout"
        },
        {
          "output_type": "stream",
          "text": [
            "WARNING:tensorflow:Callbacks method `on_train_batch_end` is slow compared to the batch time (batch time: 0.0030s vs `on_train_batch_end` time: 0.0222s). Check your callbacks.\n"
          ],
          "name": "stderr"
        },
        {
          "output_type": "stream",
          "text": [
            "390/390 [==============================] - ETA: 0s - loss: 1.6438 - sparse_categorical_accuracy: 0.4006WARNING:tensorflow:Callbacks method `on_test_batch_end` is slow compared to the batch time (batch time: 0.0020s vs `on_test_batch_end` time: 0.0122s). Check your callbacks.\n"
          ],
          "name": "stdout"
        },
        {
          "output_type": "stream",
          "text": [
            "WARNING:tensorflow:Callbacks method `on_test_batch_end` is slow compared to the batch time (batch time: 0.0020s vs `on_test_batch_end` time: 0.0122s). Check your callbacks.\n"
          ],
          "name": "stderr"
        },
        {
          "output_type": "stream",
          "text": [
            "390/390 [==============================] - 14s 36ms/step - loss: 1.6438 - sparse_categorical_accuracy: 0.4006 - val_loss: 2.2315 - val_sparse_categorical_accuracy: 0.2359\n",
            "Epoch 2/250\n",
            "390/390 [==============================] - 11s 29ms/step - loss: 1.3685 - sparse_categorical_accuracy: 0.5136 - val_loss: 1.3426 - val_sparse_categorical_accuracy: 0.5117\n",
            "Epoch 3/250\n",
            "390/390 [==============================] - 11s 28ms/step - loss: 1.2294 - sparse_categorical_accuracy: 0.5661 - val_loss: 1.2021 - val_sparse_categorical_accuracy: 0.5625\n",
            "Epoch 4/250\n",
            "390/390 [==============================] - 11s 29ms/step - loss: 1.1448 - sparse_categorical_accuracy: 0.5970 - val_loss: 1.1604 - val_sparse_categorical_accuracy: 0.5852\n",
            "Epoch 5/250\n",
            "390/390 [==============================] - 11s 29ms/step - loss: 1.0727 - sparse_categorical_accuracy: 0.6240 - val_loss: 1.0167 - val_sparse_categorical_accuracy: 0.6431\n",
            "Epoch 6/250\n",
            "390/390 [==============================] - 12s 31ms/step - loss: 1.0176 - sparse_categorical_accuracy: 0.6456 - val_loss: 1.0036 - val_sparse_categorical_accuracy: 0.6434\n",
            "Epoch 7/250\n",
            "390/390 [==============================] - 11s 28ms/step - loss: 0.9630 - sparse_categorical_accuracy: 0.6639 - val_loss: 1.0313 - val_sparse_categorical_accuracy: 0.6418\n",
            "Epoch 8/250\n",
            "390/390 [==============================] - 11s 28ms/step - loss: 0.9209 - sparse_categorical_accuracy: 0.6793 - val_loss: 0.9654 - val_sparse_categorical_accuracy: 0.6609\n",
            "Epoch 9/250\n",
            "390/390 [==============================] - 11s 28ms/step - loss: 0.8797 - sparse_categorical_accuracy: 0.6951 - val_loss: 0.8755 - val_sparse_categorical_accuracy: 0.6935\n",
            "Epoch 10/250\n",
            "390/390 [==============================] - 11s 29ms/step - loss: 0.8514 - sparse_categorical_accuracy: 0.7038 - val_loss: 0.8708 - val_sparse_categorical_accuracy: 0.6999\n",
            "Epoch 11/250\n",
            "390/390 [==============================] - 11s 29ms/step - loss: 0.8245 - sparse_categorical_accuracy: 0.7160 - val_loss: 0.7765 - val_sparse_categorical_accuracy: 0.7280\n",
            "Epoch 12/250\n",
            "390/390 [==============================] - 11s 28ms/step - loss: 0.7921 - sparse_categorical_accuracy: 0.7239 - val_loss: 0.7238 - val_sparse_categorical_accuracy: 0.7450\n",
            "Epoch 13/250\n",
            "390/390 [==============================] - 11s 29ms/step - loss: 0.7658 - sparse_categorical_accuracy: 0.7325 - val_loss: 0.7269 - val_sparse_categorical_accuracy: 0.7497\n",
            "Epoch 14/250\n",
            "390/390 [==============================] - 11s 29ms/step - loss: 0.7448 - sparse_categorical_accuracy: 0.7416 - val_loss: 0.6894 - val_sparse_categorical_accuracy: 0.7635\n",
            "Epoch 15/250\n",
            "390/390 [==============================] - 11s 29ms/step - loss: 0.7185 - sparse_categorical_accuracy: 0.7525 - val_loss: 0.6637 - val_sparse_categorical_accuracy: 0.7790\n",
            "Epoch 16/250\n",
            "390/390 [==============================] - 12s 31ms/step - loss: 0.7102 - sparse_categorical_accuracy: 0.7556 - val_loss: 0.6276 - val_sparse_categorical_accuracy: 0.7825\n",
            "Epoch 17/250\n",
            "390/390 [==============================] - 11s 29ms/step - loss: 0.6847 - sparse_categorical_accuracy: 0.7660 - val_loss: 0.6164 - val_sparse_categorical_accuracy: 0.7928\n",
            "Epoch 18/250\n",
            "390/390 [==============================] - 11s 29ms/step - loss: 0.6665 - sparse_categorical_accuracy: 0.7713 - val_loss: 0.6016 - val_sparse_categorical_accuracy: 0.7932\n",
            "Epoch 19/250\n",
            "390/390 [==============================] - 11s 29ms/step - loss: 0.6494 - sparse_categorical_accuracy: 0.7773 - val_loss: 0.6307 - val_sparse_categorical_accuracy: 0.7810\n",
            "Epoch 20/250\n",
            "390/390 [==============================] - 12s 30ms/step - loss: 0.6370 - sparse_categorical_accuracy: 0.7819 - val_loss: 0.6264 - val_sparse_categorical_accuracy: 0.7818\n",
            "Epoch 21/250\n",
            "390/390 [==============================] - 11s 29ms/step - loss: 0.6253 - sparse_categorical_accuracy: 0.7859 - val_loss: 0.6286 - val_sparse_categorical_accuracy: 0.7863\n",
            "Epoch 22/250\n",
            "390/390 [==============================] - 11s 29ms/step - loss: 0.6050 - sparse_categorical_accuracy: 0.7928 - val_loss: 0.5803 - val_sparse_categorical_accuracy: 0.8011\n",
            "Epoch 23/250\n",
            "390/390 [==============================] - 12s 31ms/step - loss: 0.5923 - sparse_categorical_accuracy: 0.7984 - val_loss: 0.5912 - val_sparse_categorical_accuracy: 0.7949\n",
            "Epoch 24/250\n",
            "390/390 [==============================] - 11s 29ms/step - loss: 0.5855 - sparse_categorical_accuracy: 0.8001 - val_loss: 0.6275 - val_sparse_categorical_accuracy: 0.7847\n",
            "Epoch 25/250\n",
            "390/390 [==============================] - 11s 29ms/step - loss: 0.5674 - sparse_categorical_accuracy: 0.8061 - val_loss: 0.6179 - val_sparse_categorical_accuracy: 0.7870\n",
            "Epoch 26/250\n",
            "390/390 [==============================] - 11s 29ms/step - loss: 0.5572 - sparse_categorical_accuracy: 0.8090 - val_loss: 0.5287 - val_sparse_categorical_accuracy: 0.8181\n",
            "Epoch 27/250\n",
            "390/390 [==============================] - 11s 29ms/step - loss: 0.5527 - sparse_categorical_accuracy: 0.8105 - val_loss: 0.5786 - val_sparse_categorical_accuracy: 0.7966\n",
            "Epoch 28/250\n",
            "390/390 [==============================] - 11s 29ms/step - loss: 0.5381 - sparse_categorical_accuracy: 0.8157 - val_loss: 0.5225 - val_sparse_categorical_accuracy: 0.8179\n",
            "Epoch 29/250\n",
            "390/390 [==============================] - 11s 29ms/step - loss: 0.5266 - sparse_categorical_accuracy: 0.8202 - val_loss: 0.5731 - val_sparse_categorical_accuracy: 0.8009\n",
            "Epoch 30/250\n",
            "390/390 [==============================] - 11s 29ms/step - loss: 0.5185 - sparse_categorical_accuracy: 0.8215 - val_loss: 0.5350 - val_sparse_categorical_accuracy: 0.8127\n",
            "Epoch 31/250\n",
            "390/390 [==============================] - 11s 29ms/step - loss: 0.5082 - sparse_categorical_accuracy: 0.8258 - val_loss: 0.5647 - val_sparse_categorical_accuracy: 0.8035\n",
            "Epoch 32/250\n",
            "390/390 [==============================] - 11s 29ms/step - loss: 0.4978 - sparse_categorical_accuracy: 0.8299 - val_loss: 0.5291 - val_sparse_categorical_accuracy: 0.8163\n",
            "Epoch 33/250\n",
            "390/390 [==============================] - 11s 29ms/step - loss: 0.4932 - sparse_categorical_accuracy: 0.8297 - val_loss: 0.5401 - val_sparse_categorical_accuracy: 0.8146\n",
            "Epoch 34/250\n",
            "390/390 [==============================] - 11s 29ms/step - loss: 0.4815 - sparse_categorical_accuracy: 0.8363 - val_loss: 0.5140 - val_sparse_categorical_accuracy: 0.8256\n",
            "Epoch 35/250\n",
            "390/390 [==============================] - 11s 28ms/step - loss: 0.4748 - sparse_categorical_accuracy: 0.8368 - val_loss: 0.5188 - val_sparse_categorical_accuracy: 0.8208\n",
            "Epoch 36/250\n",
            "390/390 [==============================] - 11s 29ms/step - loss: 0.4685 - sparse_categorical_accuracy: 0.8396 - val_loss: 0.4643 - val_sparse_categorical_accuracy: 0.8435\n",
            "Epoch 37/250\n",
            "390/390 [==============================] - 11s 29ms/step - loss: 0.4607 - sparse_categorical_accuracy: 0.8414 - val_loss: 0.4624 - val_sparse_categorical_accuracy: 0.8425\n",
            "Epoch 38/250\n",
            "390/390 [==============================] - 11s 29ms/step - loss: 0.4540 - sparse_categorical_accuracy: 0.8448 - val_loss: 0.5183 - val_sparse_categorical_accuracy: 0.8248\n",
            "Epoch 39/250\n",
            "390/390 [==============================] - 11s 29ms/step - loss: 0.4494 - sparse_categorical_accuracy: 0.8474 - val_loss: 0.4786 - val_sparse_categorical_accuracy: 0.8399\n",
            "Epoch 40/250\n",
            "390/390 [==============================] - 11s 29ms/step - loss: 0.4408 - sparse_categorical_accuracy: 0.8489 - val_loss: 0.4635 - val_sparse_categorical_accuracy: 0.8424\n",
            "Epoch 41/250\n",
            "390/390 [==============================] - 12s 30ms/step - loss: 0.4237 - sparse_categorical_accuracy: 0.8567 - val_loss: 0.4666 - val_sparse_categorical_accuracy: 0.8398\n",
            "Epoch 42/250\n",
            "390/390 [==============================] - 11s 29ms/step - loss: 0.3914 - sparse_categorical_accuracy: 0.8677 - val_loss: 0.3989 - val_sparse_categorical_accuracy: 0.8629\n",
            "Epoch 43/250\n",
            "390/390 [==============================] - 12s 30ms/step - loss: 0.3805 - sparse_categorical_accuracy: 0.8721 - val_loss: 0.3976 - val_sparse_categorical_accuracy: 0.8651\n",
            "Epoch 44/250\n",
            "390/390 [==============================] - 12s 32ms/step - loss: 0.3730 - sparse_categorical_accuracy: 0.8741 - val_loss: 0.4001 - val_sparse_categorical_accuracy: 0.8629\n",
            "Epoch 45/250\n",
            "390/390 [==============================] - 12s 30ms/step - loss: 0.3701 - sparse_categorical_accuracy: 0.8736 - val_loss: 0.4010 - val_sparse_categorical_accuracy: 0.8622\n",
            "Epoch 46/250\n",
            "390/390 [==============================] - 11s 29ms/step - loss: 0.3669 - sparse_categorical_accuracy: 0.8756 - val_loss: 0.3983 - val_sparse_categorical_accuracy: 0.8647\n",
            "Epoch 47/250\n",
            "390/390 [==============================] - 12s 30ms/step - loss: 0.3591 - sparse_categorical_accuracy: 0.8784 - val_loss: 0.4008 - val_sparse_categorical_accuracy: 0.8656\n",
            "Epoch 48/250\n",
            "390/390 [==============================] - 12s 30ms/step - loss: 0.3588 - sparse_categorical_accuracy: 0.8784 - val_loss: 0.3953 - val_sparse_categorical_accuracy: 0.8680\n",
            "Epoch 49/250\n",
            "390/390 [==============================] - 11s 29ms/step - loss: 0.3525 - sparse_categorical_accuracy: 0.8806 - val_loss: 0.3887 - val_sparse_categorical_accuracy: 0.8666\n",
            "Epoch 50/250\n",
            "390/390 [==============================] - 12s 31ms/step - loss: 0.3514 - sparse_categorical_accuracy: 0.8800 - val_loss: 0.4034 - val_sparse_categorical_accuracy: 0.8685\n",
            "Epoch 51/250\n",
            "390/390 [==============================] - 11s 29ms/step - loss: 0.3458 - sparse_categorical_accuracy: 0.8814 - val_loss: 0.3922 - val_sparse_categorical_accuracy: 0.8633\n",
            "Epoch 52/250\n",
            "390/390 [==============================] - 11s 29ms/step - loss: 0.3448 - sparse_categorical_accuracy: 0.8837 - val_loss: 0.3951 - val_sparse_categorical_accuracy: 0.8660\n",
            "Epoch 53/250\n",
            "390/390 [==============================] - 11s 29ms/step - loss: 0.3400 - sparse_categorical_accuracy: 0.8855 - val_loss: 0.3930 - val_sparse_categorical_accuracy: 0.8664\n",
            "Epoch 54/250\n",
            "390/390 [==============================] - 11s 29ms/step - loss: 0.3375 - sparse_categorical_accuracy: 0.8847 - val_loss: 0.4006 - val_sparse_categorical_accuracy: 0.8604\n",
            "Epoch 55/250\n",
            "390/390 [==============================] - 11s 29ms/step - loss: 0.3311 - sparse_categorical_accuracy: 0.8878 - val_loss: 0.3966 - val_sparse_categorical_accuracy: 0.8680\n",
            "Epoch 56/250\n",
            "390/390 [==============================] - 11s 28ms/step - loss: 0.3356 - sparse_categorical_accuracy: 0.8865 - val_loss: 0.4044 - val_sparse_categorical_accuracy: 0.8622\n",
            "Epoch 57/250\n",
            "390/390 [==============================] - 11s 29ms/step - loss: 0.3296 - sparse_categorical_accuracy: 0.8863 - val_loss: 0.3914 - val_sparse_categorical_accuracy: 0.8686\n",
            "Epoch 58/250\n",
            "390/390 [==============================] - 11s 29ms/step - loss: 0.3260 - sparse_categorical_accuracy: 0.8896 - val_loss: 0.3919 - val_sparse_categorical_accuracy: 0.8676\n",
            "Epoch 59/250\n",
            "390/390 [==============================] - 12s 31ms/step - loss: 0.3223 - sparse_categorical_accuracy: 0.8907 - val_loss: 0.3958 - val_sparse_categorical_accuracy: 0.8675\n",
            "Epoch 60/250\n",
            "390/390 [==============================] - 11s 29ms/step - loss: 0.3213 - sparse_categorical_accuracy: 0.8909 - val_loss: 0.4262 - val_sparse_categorical_accuracy: 0.8586\n",
            "Epoch 61/250\n",
            "390/390 [==============================] - 11s 29ms/step - loss: 0.3214 - sparse_categorical_accuracy: 0.8916 - val_loss: 0.4247 - val_sparse_categorical_accuracy: 0.8594\n",
            "Epoch 62/250\n",
            "390/390 [==============================] - 11s 29ms/step - loss: 0.3010 - sparse_categorical_accuracy: 0.8990 - val_loss: 0.3651 - val_sparse_categorical_accuracy: 0.8765\n",
            "Epoch 63/250\n",
            "390/390 [==============================] - 11s 28ms/step - loss: 0.2941 - sparse_categorical_accuracy: 0.9004 - val_loss: 0.3748 - val_sparse_categorical_accuracy: 0.8780\n",
            "Epoch 64/250\n",
            "390/390 [==============================] - 11s 28ms/step - loss: 0.2924 - sparse_categorical_accuracy: 0.9017 - val_loss: 0.3675 - val_sparse_categorical_accuracy: 0.8756\n",
            "Epoch 65/250\n",
            "390/390 [==============================] - 11s 29ms/step - loss: 0.2875 - sparse_categorical_accuracy: 0.9019 - val_loss: 0.3693 - val_sparse_categorical_accuracy: 0.8770\n",
            "Epoch 66/250\n",
            "390/390 [==============================] - 11s 29ms/step - loss: 0.2874 - sparse_categorical_accuracy: 0.9041 - val_loss: 0.3654 - val_sparse_categorical_accuracy: 0.8774\n",
            "Epoch 67/250\n",
            "390/390 [==============================] - 11s 29ms/step - loss: 0.2871 - sparse_categorical_accuracy: 0.9026 - val_loss: 0.3680 - val_sparse_categorical_accuracy: 0.8772\n",
            "Epoch 68/250\n",
            "390/390 [==============================] - 11s 29ms/step - loss: 0.2792 - sparse_categorical_accuracy: 0.9051 - val_loss: 0.3647 - val_sparse_categorical_accuracy: 0.8798\n",
            "Epoch 69/250\n",
            "390/390 [==============================] - 11s 29ms/step - loss: 0.2781 - sparse_categorical_accuracy: 0.9063 - val_loss: 0.3802 - val_sparse_categorical_accuracy: 0.8767\n",
            "Epoch 70/250\n",
            "390/390 [==============================] - 11s 28ms/step - loss: 0.2777 - sparse_categorical_accuracy: 0.9055 - val_loss: 0.3718 - val_sparse_categorical_accuracy: 0.8757\n",
            "Epoch 71/250\n",
            "390/390 [==============================] - 11s 28ms/step - loss: 0.2776 - sparse_categorical_accuracy: 0.9059 - val_loss: 0.3688 - val_sparse_categorical_accuracy: 0.8766\n",
            "Epoch 72/250\n",
            "390/390 [==============================] - 11s 28ms/step - loss: 0.2749 - sparse_categorical_accuracy: 0.9053 - val_loss: 0.3757 - val_sparse_categorical_accuracy: 0.8758\n",
            "Epoch 73/250\n",
            "390/390 [==============================] - 12s 31ms/step - loss: 0.2732 - sparse_categorical_accuracy: 0.9081 - val_loss: 0.3595 - val_sparse_categorical_accuracy: 0.8811\n",
            "Epoch 74/250\n",
            "390/390 [==============================] - 11s 29ms/step - loss: 0.2701 - sparse_categorical_accuracy: 0.9082 - val_loss: 0.3697 - val_sparse_categorical_accuracy: 0.8783\n",
            "Epoch 75/250\n",
            "390/390 [==============================] - 11s 29ms/step - loss: 0.2727 - sparse_categorical_accuracy: 0.9069 - val_loss: 0.3695 - val_sparse_categorical_accuracy: 0.8791\n",
            "Epoch 76/250\n",
            "390/390 [==============================] - 11s 29ms/step - loss: 0.2630 - sparse_categorical_accuracy: 0.9105 - val_loss: 0.3627 - val_sparse_categorical_accuracy: 0.8792\n",
            "Epoch 77/250\n",
            "390/390 [==============================] - 12s 30ms/step - loss: 0.2660 - sparse_categorical_accuracy: 0.9103 - val_loss: 0.3613 - val_sparse_categorical_accuracy: 0.8823\n",
            "Epoch 78/250\n",
            "390/390 [==============================] - 12s 30ms/step - loss: 0.2637 - sparse_categorical_accuracy: 0.9100 - val_loss: 0.3603 - val_sparse_categorical_accuracy: 0.8804\n",
            "Epoch 79/250\n",
            "390/390 [==============================] - 12s 30ms/step - loss: 0.2601 - sparse_categorical_accuracy: 0.9118 - val_loss: 0.3671 - val_sparse_categorical_accuracy: 0.8790\n",
            "Epoch 80/250\n",
            "390/390 [==============================] - 11s 29ms/step - loss: 0.2621 - sparse_categorical_accuracy: 0.9110 - val_loss: 0.3587 - val_sparse_categorical_accuracy: 0.8816\n",
            "Epoch 81/250\n",
            "390/390 [==============================] - 11s 29ms/step - loss: 0.2594 - sparse_categorical_accuracy: 0.9110 - val_loss: 0.3739 - val_sparse_categorical_accuracy: 0.8743\n",
            "Epoch 82/250\n",
            "390/390 [==============================] - 11s 29ms/step - loss: 0.2398 - sparse_categorical_accuracy: 0.9190 - val_loss: 0.3401 - val_sparse_categorical_accuracy: 0.8872\n",
            "Epoch 83/250\n",
            "390/390 [==============================] - 11s 29ms/step - loss: 0.2358 - sparse_categorical_accuracy: 0.9213 - val_loss: 0.3449 - val_sparse_categorical_accuracy: 0.8869\n",
            "Epoch 84/250\n",
            "390/390 [==============================] - 11s 28ms/step - loss: 0.2342 - sparse_categorical_accuracy: 0.9219 - val_loss: 0.3411 - val_sparse_categorical_accuracy: 0.8857\n",
            "Epoch 85/250\n",
            "390/390 [==============================] - 11s 29ms/step - loss: 0.2296 - sparse_categorical_accuracy: 0.9233 - val_loss: 0.3429 - val_sparse_categorical_accuracy: 0.8831\n",
            "Epoch 86/250\n",
            "390/390 [==============================] - 11s 28ms/step - loss: 0.2260 - sparse_categorical_accuracy: 0.9251 - val_loss: 0.3424 - val_sparse_categorical_accuracy: 0.8866\n",
            "Epoch 87/250\n",
            "390/390 [==============================] - 11s 29ms/step - loss: 0.2282 - sparse_categorical_accuracy: 0.9249 - val_loss: 0.3424 - val_sparse_categorical_accuracy: 0.8864\n",
            "Epoch 88/250\n",
            "390/390 [==============================] - 11s 29ms/step - loss: 0.2289 - sparse_categorical_accuracy: 0.9238 - val_loss: 0.3430 - val_sparse_categorical_accuracy: 0.8853\n",
            "Epoch 89/250\n",
            "390/390 [==============================] - 11s 29ms/step - loss: 0.2269 - sparse_categorical_accuracy: 0.9235 - val_loss: 0.3451 - val_sparse_categorical_accuracy: 0.8838\n",
            "Epoch 90/250\n",
            "390/390 [==============================] - 11s 29ms/step - loss: 0.2263 - sparse_categorical_accuracy: 0.9231 - val_loss: 0.3434 - val_sparse_categorical_accuracy: 0.8864\n",
            "Epoch 91/250\n",
            "390/390 [==============================] - 11s 28ms/step - loss: 0.2232 - sparse_categorical_accuracy: 0.9275 - val_loss: 0.3386 - val_sparse_categorical_accuracy: 0.8870\n",
            "Epoch 92/250\n",
            "390/390 [==============================] - 11s 29ms/step - loss: 0.2227 - sparse_categorical_accuracy: 0.9265 - val_loss: 0.3407 - val_sparse_categorical_accuracy: 0.8857\n",
            "Epoch 93/250\n",
            "390/390 [==============================] - 11s 29ms/step - loss: 0.2238 - sparse_categorical_accuracy: 0.9261 - val_loss: 0.3402 - val_sparse_categorical_accuracy: 0.8863\n",
            "Epoch 94/250\n",
            "390/390 [==============================] - 11s 29ms/step - loss: 0.2237 - sparse_categorical_accuracy: 0.9248 - val_loss: 0.3408 - val_sparse_categorical_accuracy: 0.8849\n",
            "Epoch 95/250\n",
            "390/390 [==============================] - 11s 28ms/step - loss: 0.2257 - sparse_categorical_accuracy: 0.9245 - val_loss: 0.3421 - val_sparse_categorical_accuracy: 0.8849\n",
            "Epoch 96/250\n",
            "390/390 [==============================] - 11s 29ms/step - loss: 0.2221 - sparse_categorical_accuracy: 0.9255 - val_loss: 0.3426 - val_sparse_categorical_accuracy: 0.8868\n",
            "Epoch 97/250\n",
            "390/390 [==============================] - 11s 29ms/step - loss: 0.2233 - sparse_categorical_accuracy: 0.9245 - val_loss: 0.3416 - val_sparse_categorical_accuracy: 0.8862\n",
            "Epoch 98/250\n",
            "390/390 [==============================] - 11s 29ms/step - loss: 0.2184 - sparse_categorical_accuracy: 0.9267 - val_loss: 0.3438 - val_sparse_categorical_accuracy: 0.8851\n",
            "Epoch 99/250\n",
            "390/390 [==============================] - 11s 29ms/step - loss: 0.2194 - sparse_categorical_accuracy: 0.9275 - val_loss: 0.3387 - val_sparse_categorical_accuracy: 0.8857\n",
            "Epoch 100/250\n",
            "390/390 [==============================] - 11s 28ms/step - loss: 0.2158 - sparse_categorical_accuracy: 0.9280 - val_loss: 0.3424 - val_sparse_categorical_accuracy: 0.8852\n",
            "Epoch 101/250\n",
            "390/390 [==============================] - 11s 29ms/step - loss: 0.2192 - sparse_categorical_accuracy: 0.9270 - val_loss: 0.3432 - val_sparse_categorical_accuracy: 0.8865\n",
            "Epoch 102/250\n",
            "390/390 [==============================] - 12s 31ms/step - loss: 0.2099 - sparse_categorical_accuracy: 0.9306 - val_loss: 0.3322 - val_sparse_categorical_accuracy: 0.8889\n",
            "Epoch 103/250\n",
            "390/390 [==============================] - 11s 29ms/step - loss: 0.2112 - sparse_categorical_accuracy: 0.9293 - val_loss: 0.3321 - val_sparse_categorical_accuracy: 0.8884\n",
            "Epoch 104/250\n",
            "390/390 [==============================] - 12s 30ms/step - loss: 0.2080 - sparse_categorical_accuracy: 0.9306 - val_loss: 0.3338 - val_sparse_categorical_accuracy: 0.8888\n",
            "Epoch 105/250\n",
            "390/390 [==============================] - 12s 30ms/step - loss: 0.2065 - sparse_categorical_accuracy: 0.9313 - val_loss: 0.3324 - val_sparse_categorical_accuracy: 0.8901\n",
            "Epoch 106/250\n",
            "390/390 [==============================] - 11s 29ms/step - loss: 0.2080 - sparse_categorical_accuracy: 0.9306 - val_loss: 0.3327 - val_sparse_categorical_accuracy: 0.8875\n",
            "Epoch 107/250\n",
            "390/390 [==============================] - 11s 29ms/step - loss: 0.2101 - sparse_categorical_accuracy: 0.9300 - val_loss: 0.3323 - val_sparse_categorical_accuracy: 0.8907\n",
            "Epoch 108/250\n",
            "390/390 [==============================] - 11s 29ms/step - loss: 0.2054 - sparse_categorical_accuracy: 0.9325 - val_loss: 0.3337 - val_sparse_categorical_accuracy: 0.8890\n",
            "Epoch 109/250\n",
            "390/390 [==============================] - 11s 29ms/step - loss: 0.2049 - sparse_categorical_accuracy: 0.9322 - val_loss: 0.3313 - val_sparse_categorical_accuracy: 0.8904\n",
            "Epoch 110/250\n",
            "390/390 [==============================] - 11s 29ms/step - loss: 0.2029 - sparse_categorical_accuracy: 0.9331 - val_loss: 0.3318 - val_sparse_categorical_accuracy: 0.8898\n",
            "Epoch 111/250\n",
            "390/390 [==============================] - 11s 29ms/step - loss: 0.2025 - sparse_categorical_accuracy: 0.9330 - val_loss: 0.3326 - val_sparse_categorical_accuracy: 0.8900\n",
            "Epoch 112/250\n",
            "390/390 [==============================] - 11s 29ms/step - loss: 0.2053 - sparse_categorical_accuracy: 0.9320 - val_loss: 0.3329 - val_sparse_categorical_accuracy: 0.8900\n",
            "Epoch 113/250\n",
            "390/390 [==============================] - 12s 31ms/step - loss: 0.2065 - sparse_categorical_accuracy: 0.9316 - val_loss: 0.3339 - val_sparse_categorical_accuracy: 0.8898\n",
            "Epoch 114/250\n",
            "390/390 [==============================] - 11s 29ms/step - loss: 0.2046 - sparse_categorical_accuracy: 0.9316 - val_loss: 0.3316 - val_sparse_categorical_accuracy: 0.8909\n",
            "Epoch 115/250\n",
            "390/390 [==============================] - 11s 29ms/step - loss: 0.2038 - sparse_categorical_accuracy: 0.9329 - val_loss: 0.3314 - val_sparse_categorical_accuracy: 0.8909\n",
            "Epoch 116/250\n",
            "390/390 [==============================] - 11s 29ms/step - loss: 0.2037 - sparse_categorical_accuracy: 0.9333 - val_loss: 0.3308 - val_sparse_categorical_accuracy: 0.8915\n",
            "Epoch 117/250\n",
            "390/390 [==============================] - 11s 29ms/step - loss: 0.2051 - sparse_categorical_accuracy: 0.9324 - val_loss: 0.3311 - val_sparse_categorical_accuracy: 0.8894\n",
            "Epoch 118/250\n",
            "390/390 [==============================] - 11s 29ms/step - loss: 0.2034 - sparse_categorical_accuracy: 0.9341 - val_loss: 0.3335 - val_sparse_categorical_accuracy: 0.8900\n",
            "Epoch 119/250\n",
            "390/390 [==============================] - 11s 29ms/step - loss: 0.2059 - sparse_categorical_accuracy: 0.9303 - val_loss: 0.3312 - val_sparse_categorical_accuracy: 0.8892\n",
            "Epoch 120/250\n",
            "390/390 [==============================] - 11s 29ms/step - loss: 0.2055 - sparse_categorical_accuracy: 0.9319 - val_loss: 0.3321 - val_sparse_categorical_accuracy: 0.8894\n",
            "Epoch 121/250\n",
            "390/390 [==============================] - 11s 28ms/step - loss: 0.1996 - sparse_categorical_accuracy: 0.9343 - val_loss: 0.3309 - val_sparse_categorical_accuracy: 0.8895\n",
            "Epoch 122/250\n",
            "390/390 [==============================] - 11s 28ms/step - loss: 0.2038 - sparse_categorical_accuracy: 0.9322 - val_loss: 0.3353 - val_sparse_categorical_accuracy: 0.8881\n",
            "Epoch 123/250\n",
            "390/390 [==============================] - 11s 29ms/step - loss: 0.2068 - sparse_categorical_accuracy: 0.9321 - val_loss: 0.3340 - val_sparse_categorical_accuracy: 0.8889\n",
            "Epoch 124/250\n",
            "390/390 [==============================] - 11s 29ms/step - loss: 0.2051 - sparse_categorical_accuracy: 0.9327 - val_loss: 0.3342 - val_sparse_categorical_accuracy: 0.8887\n",
            "Epoch 125/250\n",
            "390/390 [==============================] - 11s 29ms/step - loss: 0.2018 - sparse_categorical_accuracy: 0.9334 - val_loss: 0.3327 - val_sparse_categorical_accuracy: 0.8886\n",
            "Epoch 126/250\n",
            "390/390 [==============================] - 11s 29ms/step - loss: 0.2037 - sparse_categorical_accuracy: 0.9332 - val_loss: 0.3380 - val_sparse_categorical_accuracy: 0.8879\n",
            "Epoch 127/250\n",
            "390/390 [==============================] - 11s 29ms/step - loss: 0.2045 - sparse_categorical_accuracy: 0.9327 - val_loss: 0.3352 - val_sparse_categorical_accuracy: 0.8887\n",
            "Epoch 128/250\n",
            "390/390 [==============================] - 11s 29ms/step - loss: 0.2022 - sparse_categorical_accuracy: 0.9337 - val_loss: 0.3354 - val_sparse_categorical_accuracy: 0.8887\n",
            "Epoch 129/250\n",
            "390/390 [==============================] - 11s 28ms/step - loss: 0.2044 - sparse_categorical_accuracy: 0.9330 - val_loss: 0.3394 - val_sparse_categorical_accuracy: 0.8865\n",
            "Epoch 130/250\n",
            "390/390 [==============================] - 12s 31ms/step - loss: 0.2009 - sparse_categorical_accuracy: 0.9339 - val_loss: 0.3355 - val_sparse_categorical_accuracy: 0.8885\n",
            "Epoch 131/250\n",
            "390/390 [==============================] - 11s 29ms/step - loss: 0.2035 - sparse_categorical_accuracy: 0.9326 - val_loss: 0.3378 - val_sparse_categorical_accuracy: 0.8887\n",
            "Epoch 132/250\n",
            "390/390 [==============================] - 12s 30ms/step - loss: 0.2030 - sparse_categorical_accuracy: 0.9318 - val_loss: 0.3351 - val_sparse_categorical_accuracy: 0.8885\n",
            "Epoch 133/250\n",
            "390/390 [==============================] - 12s 29ms/step - loss: 0.2028 - sparse_categorical_accuracy: 0.9331 - val_loss: 0.3352 - val_sparse_categorical_accuracy: 0.8881\n",
            "Epoch 134/250\n",
            "390/390 [==============================] - 11s 29ms/step - loss: 0.2021 - sparse_categorical_accuracy: 0.9331 - val_loss: 0.3330 - val_sparse_categorical_accuracy: 0.8872\n",
            "Epoch 135/250\n",
            "390/390 [==============================] - 11s 29ms/step - loss: 0.2020 - sparse_categorical_accuracy: 0.9341 - val_loss: 0.3346 - val_sparse_categorical_accuracy: 0.8896\n",
            "Epoch 136/250\n",
            "390/390 [==============================] - 11s 29ms/step - loss: 0.2000 - sparse_categorical_accuracy: 0.9343 - val_loss: 0.3355 - val_sparse_categorical_accuracy: 0.8879\n",
            "Epoch 137/250\n",
            "390/390 [==============================] - 11s 29ms/step - loss: 0.1996 - sparse_categorical_accuracy: 0.9328 - val_loss: 0.3338 - val_sparse_categorical_accuracy: 0.8891\n",
            "Epoch 138/250\n",
            "390/390 [==============================] - 11s 29ms/step - loss: 0.1982 - sparse_categorical_accuracy: 0.9340 - val_loss: 0.3370 - val_sparse_categorical_accuracy: 0.8888\n",
            "Epoch 139/250\n",
            "390/390 [==============================] - 11s 29ms/step - loss: 0.1993 - sparse_categorical_accuracy: 0.9348 - val_loss: 0.3341 - val_sparse_categorical_accuracy: 0.8888\n",
            "Epoch 140/250\n",
            "390/390 [==============================] - 11s 29ms/step - loss: 0.1960 - sparse_categorical_accuracy: 0.9358 - val_loss: 0.3361 - val_sparse_categorical_accuracy: 0.8882\n",
            "Epoch 141/250\n",
            "390/390 [==============================] - 11s 29ms/step - loss: 0.1975 - sparse_categorical_accuracy: 0.9349 - val_loss: 0.3367 - val_sparse_categorical_accuracy: 0.8873\n",
            "Epoch 142/250\n",
            "390/390 [==============================] - 11s 29ms/step - loss: 0.1977 - sparse_categorical_accuracy: 0.9343 - val_loss: 0.3312 - val_sparse_categorical_accuracy: 0.8915\n",
            "Epoch 143/250\n",
            "390/390 [==============================] - 11s 29ms/step - loss: 0.1948 - sparse_categorical_accuracy: 0.9361 - val_loss: 0.3312 - val_sparse_categorical_accuracy: 0.8908\n",
            "Epoch 144/250\n",
            "390/390 [==============================] - 11s 29ms/step - loss: 0.1955 - sparse_categorical_accuracy: 0.9365 - val_loss: 0.3297 - val_sparse_categorical_accuracy: 0.8907\n",
            "Epoch 145/250\n",
            "390/390 [==============================] - 11s 28ms/step - loss: 0.1922 - sparse_categorical_accuracy: 0.9372 - val_loss: 0.3293 - val_sparse_categorical_accuracy: 0.8907\n",
            "Epoch 146/250\n",
            "390/390 [==============================] - 11s 29ms/step - loss: 0.1944 - sparse_categorical_accuracy: 0.9362 - val_loss: 0.3293 - val_sparse_categorical_accuracy: 0.8907\n",
            "Epoch 147/250\n",
            "390/390 [==============================] - 11s 29ms/step - loss: 0.1945 - sparse_categorical_accuracy: 0.9356 - val_loss: 0.3291 - val_sparse_categorical_accuracy: 0.8912\n",
            "Epoch 148/250\n",
            "390/390 [==============================] - 11s 29ms/step - loss: 0.1957 - sparse_categorical_accuracy: 0.9358 - val_loss: 0.3291 - val_sparse_categorical_accuracy: 0.8904\n",
            "Epoch 149/250\n",
            "390/390 [==============================] - 11s 29ms/step - loss: 0.1938 - sparse_categorical_accuracy: 0.9365 - val_loss: 0.3287 - val_sparse_categorical_accuracy: 0.8908\n",
            "Epoch 150/250\n",
            "390/390 [==============================] - 11s 29ms/step - loss: 0.1911 - sparse_categorical_accuracy: 0.9368 - val_loss: 0.3283 - val_sparse_categorical_accuracy: 0.8918\n",
            "Epoch 151/250\n",
            "390/390 [==============================] - 11s 29ms/step - loss: 0.1922 - sparse_categorical_accuracy: 0.9355 - val_loss: 0.3288 - val_sparse_categorical_accuracy: 0.8909\n",
            "Epoch 152/250\n",
            "390/390 [==============================] - 11s 29ms/step - loss: 0.1929 - sparse_categorical_accuracy: 0.9355 - val_loss: 0.3283 - val_sparse_categorical_accuracy: 0.8918\n",
            "Epoch 153/250\n",
            "390/390 [==============================] - 11s 29ms/step - loss: 0.1917 - sparse_categorical_accuracy: 0.9366 - val_loss: 0.3287 - val_sparse_categorical_accuracy: 0.8909\n",
            "Epoch 154/250\n",
            "390/390 [==============================] - 11s 28ms/step - loss: 0.1938 - sparse_categorical_accuracy: 0.9364 - val_loss: 0.3284 - val_sparse_categorical_accuracy: 0.8904\n",
            "Epoch 155/250\n",
            "390/390 [==============================] - 11s 29ms/step - loss: 0.1896 - sparse_categorical_accuracy: 0.9383 - val_loss: 0.3282 - val_sparse_categorical_accuracy: 0.8910\n",
            "Epoch 156/250\n",
            "390/390 [==============================] - 11s 28ms/step - loss: 0.1933 - sparse_categorical_accuracy: 0.9366 - val_loss: 0.3287 - val_sparse_categorical_accuracy: 0.8916\n",
            "Epoch 157/250\n",
            "390/390 [==============================] - 12s 31ms/step - loss: 0.1918 - sparse_categorical_accuracy: 0.9366 - val_loss: 0.3285 - val_sparse_categorical_accuracy: 0.8908\n",
            "Epoch 158/250\n",
            "390/390 [==============================] - 11s 29ms/step - loss: 0.1924 - sparse_categorical_accuracy: 0.9360 - val_loss: 0.3283 - val_sparse_categorical_accuracy: 0.8912\n",
            "Epoch 159/250\n",
            "390/390 [==============================] - 12s 30ms/step - loss: 0.1912 - sparse_categorical_accuracy: 0.9364 - val_loss: 0.3285 - val_sparse_categorical_accuracy: 0.8907\n",
            "Epoch 160/250\n",
            "390/390 [==============================] - 12s 30ms/step - loss: 0.1921 - sparse_categorical_accuracy: 0.9375 - val_loss: 0.3285 - val_sparse_categorical_accuracy: 0.8905\n",
            "Epoch 161/250\n",
            "390/390 [==============================] - 11s 29ms/step - loss: 0.1911 - sparse_categorical_accuracy: 0.9366 - val_loss: 0.3287 - val_sparse_categorical_accuracy: 0.8903\n",
            "Epoch 162/250\n",
            "390/390 [==============================] - 11s 29ms/step - loss: 0.1928 - sparse_categorical_accuracy: 0.9362 - val_loss: 0.3287 - val_sparse_categorical_accuracy: 0.8905\n",
            "Epoch 163/250\n",
            "390/390 [==============================] - 11s 29ms/step - loss: 0.1914 - sparse_categorical_accuracy: 0.9384 - val_loss: 0.3289 - val_sparse_categorical_accuracy: 0.8905\n",
            "Epoch 164/250\n",
            "390/390 [==============================] - 11s 29ms/step - loss: 0.1907 - sparse_categorical_accuracy: 0.9384 - val_loss: 0.3283 - val_sparse_categorical_accuracy: 0.8910\n",
            "Epoch 165/250\n",
            "390/390 [==============================] - 11s 29ms/step - loss: 0.1946 - sparse_categorical_accuracy: 0.9371 - val_loss: 0.3285 - val_sparse_categorical_accuracy: 0.8903\n",
            "Epoch 166/250\n",
            "390/390 [==============================] - 12s 30ms/step - loss: 0.1892 - sparse_categorical_accuracy: 0.9377 - val_loss: 0.3286 - val_sparse_categorical_accuracy: 0.8905\n",
            "Epoch 167/250\n",
            "390/390 [==============================] - 12s 30ms/step - loss: 0.1921 - sparse_categorical_accuracy: 0.9366 - val_loss: 0.3283 - val_sparse_categorical_accuracy: 0.8910\n",
            "Epoch 168/250\n",
            "390/390 [==============================] - 11s 28ms/step - loss: 0.1908 - sparse_categorical_accuracy: 0.9375 - val_loss: 0.3280 - val_sparse_categorical_accuracy: 0.8919\n",
            "Epoch 169/250\n",
            "390/390 [==============================] - 11s 28ms/step - loss: 0.1891 - sparse_categorical_accuracy: 0.9387 - val_loss: 0.3287 - val_sparse_categorical_accuracy: 0.8903\n",
            "Epoch 170/250\n",
            "390/390 [==============================] - 11s 28ms/step - loss: 0.1914 - sparse_categorical_accuracy: 0.9369 - val_loss: 0.3283 - val_sparse_categorical_accuracy: 0.8905\n",
            "Epoch 171/250\n",
            "390/390 [==============================] - 11s 29ms/step - loss: 0.1909 - sparse_categorical_accuracy: 0.9377 - val_loss: 0.3286 - val_sparse_categorical_accuracy: 0.8907\n",
            "Epoch 172/250\n",
            "390/390 [==============================] - 11s 29ms/step - loss: 0.1925 - sparse_categorical_accuracy: 0.9366 - val_loss: 0.3287 - val_sparse_categorical_accuracy: 0.8906\n",
            "Epoch 173/250\n",
            "390/390 [==============================] - 11s 29ms/step - loss: 0.1910 - sparse_categorical_accuracy: 0.9374 - val_loss: 0.3284 - val_sparse_categorical_accuracy: 0.8908\n",
            "Epoch 174/250\n",
            "390/390 [==============================] - 11s 28ms/step - loss: 0.1927 - sparse_categorical_accuracy: 0.9368 - val_loss: 0.3286 - val_sparse_categorical_accuracy: 0.8906\n",
            "Epoch 175/250\n",
            "390/390 [==============================] - 11s 28ms/step - loss: 0.1913 - sparse_categorical_accuracy: 0.9374 - val_loss: 0.3288 - val_sparse_categorical_accuracy: 0.8914\n",
            "Epoch 176/250\n",
            "390/390 [==============================] - 11s 28ms/step - loss: 0.1929 - sparse_categorical_accuracy: 0.9365 - val_loss: 0.3284 - val_sparse_categorical_accuracy: 0.8907\n",
            "Epoch 177/250\n",
            "390/390 [==============================] - 11s 28ms/step - loss: 0.1947 - sparse_categorical_accuracy: 0.9365 - val_loss: 0.3293 - val_sparse_categorical_accuracy: 0.8922\n",
            "Epoch 178/250\n",
            "390/390 [==============================] - 11s 28ms/step - loss: 0.1913 - sparse_categorical_accuracy: 0.9372 - val_loss: 0.3282 - val_sparse_categorical_accuracy: 0.8918\n",
            "Epoch 179/250\n",
            "390/390 [==============================] - 11s 29ms/step - loss: 0.1916 - sparse_categorical_accuracy: 0.9368 - val_loss: 0.3286 - val_sparse_categorical_accuracy: 0.8907\n",
            "Epoch 180/250\n",
            "390/390 [==============================] - 11s 29ms/step - loss: 0.1921 - sparse_categorical_accuracy: 0.9369 - val_loss: 0.3286 - val_sparse_categorical_accuracy: 0.8913\n",
            "Epoch 181/250\n",
            "390/390 [==============================] - 11s 29ms/step - loss: 0.1919 - sparse_categorical_accuracy: 0.9374 - val_loss: 0.3284 - val_sparse_categorical_accuracy: 0.8906\n",
            "Epoch 182/250\n",
            "390/390 [==============================] - 11s 29ms/step - loss: 0.1909 - sparse_categorical_accuracy: 0.9364 - val_loss: 0.3288 - val_sparse_categorical_accuracy: 0.8905\n",
            "Epoch 183/250\n",
            "390/390 [==============================] - 11s 28ms/step - loss: 0.1918 - sparse_categorical_accuracy: 0.9370 - val_loss: 0.3287 - val_sparse_categorical_accuracy: 0.8895\n",
            "Epoch 184/250\n",
            "390/390 [==============================] - 12s 30ms/step - loss: 0.1885 - sparse_categorical_accuracy: 0.9379 - val_loss: 0.3283 - val_sparse_categorical_accuracy: 0.8904\n",
            "Epoch 185/250\n",
            "390/390 [==============================] - 11s 28ms/step - loss: 0.1902 - sparse_categorical_accuracy: 0.9377 - val_loss: 0.3287 - val_sparse_categorical_accuracy: 0.8906\n",
            "Epoch 186/250\n",
            "390/390 [==============================] - 11s 29ms/step - loss: 0.1908 - sparse_categorical_accuracy: 0.9362 - val_loss: 0.3278 - val_sparse_categorical_accuracy: 0.8920\n",
            "Epoch 187/250\n",
            "390/390 [==============================] - 12s 30ms/step - loss: 0.1953 - sparse_categorical_accuracy: 0.9364 - val_loss: 0.3281 - val_sparse_categorical_accuracy: 0.8906\n",
            "Epoch 188/250\n",
            "390/390 [==============================] - 11s 29ms/step - loss: 0.1922 - sparse_categorical_accuracy: 0.9372 - val_loss: 0.3281 - val_sparse_categorical_accuracy: 0.8909\n",
            "Epoch 189/250\n",
            "390/390 [==============================] - 11s 29ms/step - loss: 0.1926 - sparse_categorical_accuracy: 0.9371 - val_loss: 0.3286 - val_sparse_categorical_accuracy: 0.8921\n",
            "Epoch 190/250\n",
            "390/390 [==============================] - 11s 29ms/step - loss: 0.1942 - sparse_categorical_accuracy: 0.9373 - val_loss: 0.3282 - val_sparse_categorical_accuracy: 0.8917\n",
            "Epoch 191/250\n",
            "390/390 [==============================] - 11s 28ms/step - loss: 0.1907 - sparse_categorical_accuracy: 0.9373 - val_loss: 0.3276 - val_sparse_categorical_accuracy: 0.8912\n",
            "Epoch 192/250\n",
            "390/390 [==============================] - 11s 29ms/step - loss: 0.1891 - sparse_categorical_accuracy: 0.9379 - val_loss: 0.3283 - val_sparse_categorical_accuracy: 0.8910\n",
            "Epoch 193/250\n",
            "390/390 [==============================] - 11s 29ms/step - loss: 0.1911 - sparse_categorical_accuracy: 0.9372 - val_loss: 0.3280 - val_sparse_categorical_accuracy: 0.8914\n",
            "Epoch 194/250\n",
            "390/390 [==============================] - 11s 28ms/step - loss: 0.1919 - sparse_categorical_accuracy: 0.9365 - val_loss: 0.3278 - val_sparse_categorical_accuracy: 0.8914\n",
            "Epoch 195/250\n",
            "390/390 [==============================] - 11s 29ms/step - loss: 0.1914 - sparse_categorical_accuracy: 0.9368 - val_loss: 0.3279 - val_sparse_categorical_accuracy: 0.8910\n",
            "Epoch 196/250\n",
            "390/390 [==============================] - 11s 29ms/step - loss: 0.1939 - sparse_categorical_accuracy: 0.9365 - val_loss: 0.3286 - val_sparse_categorical_accuracy: 0.8915\n",
            "Epoch 197/250\n",
            "390/390 [==============================] - 11s 28ms/step - loss: 0.1901 - sparse_categorical_accuracy: 0.9370 - val_loss: 0.3274 - val_sparse_categorical_accuracy: 0.8918\n",
            "Epoch 198/250\n",
            "390/390 [==============================] - 11s 28ms/step - loss: 0.1913 - sparse_categorical_accuracy: 0.9376 - val_loss: 0.3276 - val_sparse_categorical_accuracy: 0.8908\n",
            "Epoch 199/250\n",
            "390/390 [==============================] - 11s 29ms/step - loss: 0.1906 - sparse_categorical_accuracy: 0.9377 - val_loss: 0.3277 - val_sparse_categorical_accuracy: 0.8911\n",
            "Epoch 200/250\n",
            "390/390 [==============================] - 11s 29ms/step - loss: 0.1900 - sparse_categorical_accuracy: 0.9381 - val_loss: 0.3282 - val_sparse_categorical_accuracy: 0.8917\n",
            "Epoch 201/250\n",
            "390/390 [==============================] - 11s 29ms/step - loss: 0.1890 - sparse_categorical_accuracy: 0.9383 - val_loss: 0.3290 - val_sparse_categorical_accuracy: 0.8911\n",
            "Epoch 202/250\n",
            "390/390 [==============================] - 11s 29ms/step - loss: 0.1896 - sparse_categorical_accuracy: 0.9387 - val_loss: 0.3292 - val_sparse_categorical_accuracy: 0.8914\n",
            "Epoch 203/250\n",
            "390/390 [==============================] - 11s 29ms/step - loss: 0.1901 - sparse_categorical_accuracy: 0.9369 - val_loss: 0.3284 - val_sparse_categorical_accuracy: 0.8906\n",
            "Epoch 204/250\n",
            "390/390 [==============================] - 12s 30ms/step - loss: 0.1908 - sparse_categorical_accuracy: 0.9370 - val_loss: 0.3286 - val_sparse_categorical_accuracy: 0.8909\n",
            "Epoch 205/250\n",
            "390/390 [==============================] - 11s 28ms/step - loss: 0.1904 - sparse_categorical_accuracy: 0.9373 - val_loss: 0.3286 - val_sparse_categorical_accuracy: 0.8912\n",
            "Epoch 206/250\n",
            "390/390 [==============================] - 11s 29ms/step - loss: 0.1879 - sparse_categorical_accuracy: 0.9389 - val_loss: 0.3286 - val_sparse_categorical_accuracy: 0.8908\n",
            "Epoch 207/250\n",
            "390/390 [==============================] - 11s 29ms/step - loss: 0.1903 - sparse_categorical_accuracy: 0.9365 - val_loss: 0.3286 - val_sparse_categorical_accuracy: 0.8914\n",
            "Epoch 208/250\n",
            "390/390 [==============================] - 11s 28ms/step - loss: 0.1925 - sparse_categorical_accuracy: 0.9369 - val_loss: 0.3284 - val_sparse_categorical_accuracy: 0.8913\n",
            "Epoch 209/250\n",
            "390/390 [==============================] - 11s 29ms/step - loss: 0.1908 - sparse_categorical_accuracy: 0.9377 - val_loss: 0.3284 - val_sparse_categorical_accuracy: 0.8911\n",
            "Epoch 210/250\n",
            "390/390 [==============================] - 11s 28ms/step - loss: 0.1899 - sparse_categorical_accuracy: 0.9380 - val_loss: 0.3287 - val_sparse_categorical_accuracy: 0.8909\n",
            "Epoch 211/250\n",
            "390/390 [==============================] - 12s 31ms/step - loss: 0.1887 - sparse_categorical_accuracy: 0.9390 - val_loss: 0.3282 - val_sparse_categorical_accuracy: 0.8917\n",
            "Epoch 212/250\n",
            "390/390 [==============================] - 11s 28ms/step - loss: 0.1894 - sparse_categorical_accuracy: 0.9382 - val_loss: 0.3283 - val_sparse_categorical_accuracy: 0.8907\n",
            "Epoch 213/250\n",
            "390/390 [==============================] - 11s 28ms/step - loss: 0.1930 - sparse_categorical_accuracy: 0.9361 - val_loss: 0.3286 - val_sparse_categorical_accuracy: 0.8912\n",
            "Epoch 214/250\n",
            "390/390 [==============================] - 12s 30ms/step - loss: 0.1915 - sparse_categorical_accuracy: 0.9370 - val_loss: 0.3283 - val_sparse_categorical_accuracy: 0.8907\n",
            "Epoch 215/250\n",
            "390/390 [==============================] - 11s 29ms/step - loss: 0.1901 - sparse_categorical_accuracy: 0.9383 - val_loss: 0.3282 - val_sparse_categorical_accuracy: 0.8913\n",
            "Epoch 216/250\n",
            "390/390 [==============================] - 11s 29ms/step - loss: 0.1896 - sparse_categorical_accuracy: 0.9382 - val_loss: 0.3285 - val_sparse_categorical_accuracy: 0.8907\n",
            "Epoch 217/250\n",
            "390/390 [==============================] - 11s 29ms/step - loss: 0.1912 - sparse_categorical_accuracy: 0.9372 - val_loss: 0.3287 - val_sparse_categorical_accuracy: 0.8908\n",
            "Epoch 218/250\n",
            "390/390 [==============================] - 11s 29ms/step - loss: 0.1875 - sparse_categorical_accuracy: 0.9397 - val_loss: 0.3285 - val_sparse_categorical_accuracy: 0.8907\n",
            "Epoch 219/250\n",
            "390/390 [==============================] - 11s 29ms/step - loss: 0.1881 - sparse_categorical_accuracy: 0.9392 - val_loss: 0.3283 - val_sparse_categorical_accuracy: 0.8917\n",
            "Epoch 220/250\n",
            "390/390 [==============================] - 12s 30ms/step - loss: 0.1872 - sparse_categorical_accuracy: 0.9392 - val_loss: 0.3283 - val_sparse_categorical_accuracy: 0.8907\n",
            "Epoch 221/250\n",
            "390/390 [==============================] - 12s 30ms/step - loss: 0.1911 - sparse_categorical_accuracy: 0.9374 - val_loss: 0.3283 - val_sparse_categorical_accuracy: 0.8913\n",
            "Epoch 222/250\n",
            "390/390 [==============================] - 11s 28ms/step - loss: 0.1883 - sparse_categorical_accuracy: 0.9379 - val_loss: 0.3284 - val_sparse_categorical_accuracy: 0.8905\n",
            "Epoch 223/250\n",
            "390/390 [==============================] - 11s 29ms/step - loss: 0.1900 - sparse_categorical_accuracy: 0.9378 - val_loss: 0.3285 - val_sparse_categorical_accuracy: 0.8916\n",
            "Epoch 224/250\n",
            "390/390 [==============================] - 11s 28ms/step - loss: 0.1913 - sparse_categorical_accuracy: 0.9381 - val_loss: 0.3281 - val_sparse_categorical_accuracy: 0.8914\n",
            "Epoch 225/250\n",
            "390/390 [==============================] - 11s 28ms/step - loss: 0.1887 - sparse_categorical_accuracy: 0.9375 - val_loss: 0.3286 - val_sparse_categorical_accuracy: 0.8914\n",
            "Epoch 226/250\n",
            "390/390 [==============================] - 11s 28ms/step - loss: 0.1907 - sparse_categorical_accuracy: 0.9379 - val_loss: 0.3285 - val_sparse_categorical_accuracy: 0.8911\n",
            "Epoch 227/250\n",
            "390/390 [==============================] - 11s 28ms/step - loss: 0.1906 - sparse_categorical_accuracy: 0.9376 - val_loss: 0.3288 - val_sparse_categorical_accuracy: 0.8917\n",
            "Epoch 228/250\n",
            "390/390 [==============================] - 11s 28ms/step - loss: 0.1882 - sparse_categorical_accuracy: 0.9375 - val_loss: 0.3279 - val_sparse_categorical_accuracy: 0.8916\n",
            "Epoch 229/250\n",
            "390/390 [==============================] - 11s 28ms/step - loss: 0.1884 - sparse_categorical_accuracy: 0.9381 - val_loss: 0.3287 - val_sparse_categorical_accuracy: 0.8905\n",
            "Epoch 230/250\n",
            "390/390 [==============================] - 11s 28ms/step - loss: 0.1894 - sparse_categorical_accuracy: 0.9378 - val_loss: 0.3279 - val_sparse_categorical_accuracy: 0.8916\n",
            "Epoch 231/250\n",
            "390/390 [==============================] - 11s 28ms/step - loss: 0.1897 - sparse_categorical_accuracy: 0.9378 - val_loss: 0.3287 - val_sparse_categorical_accuracy: 0.8912\n",
            "Epoch 232/250\n",
            "390/390 [==============================] - 11s 28ms/step - loss: 0.1928 - sparse_categorical_accuracy: 0.9364 - val_loss: 0.3283 - val_sparse_categorical_accuracy: 0.8916\n",
            "Epoch 233/250\n",
            "390/390 [==============================] - 11s 28ms/step - loss: 0.1900 - sparse_categorical_accuracy: 0.9377 - val_loss: 0.3287 - val_sparse_categorical_accuracy: 0.8911\n",
            "Epoch 234/250\n",
            "390/390 [==============================] - 11s 28ms/step - loss: 0.1896 - sparse_categorical_accuracy: 0.9369 - val_loss: 0.3285 - val_sparse_categorical_accuracy: 0.8911\n",
            "Epoch 235/250\n",
            "390/390 [==============================] - 11s 29ms/step - loss: 0.1872 - sparse_categorical_accuracy: 0.9390 - val_loss: 0.3283 - val_sparse_categorical_accuracy: 0.8911\n",
            "Epoch 236/250\n",
            "390/390 [==============================] - 11s 29ms/step - loss: 0.1909 - sparse_categorical_accuracy: 0.9373 - val_loss: 0.3282 - val_sparse_categorical_accuracy: 0.8916\n",
            "Epoch 237/250\n",
            "390/390 [==============================] - 11s 29ms/step - loss: 0.1890 - sparse_categorical_accuracy: 0.9382 - val_loss: 0.3279 - val_sparse_categorical_accuracy: 0.8916\n",
            "Epoch 238/250\n",
            "390/390 [==============================] - 12s 31ms/step - loss: 0.1900 - sparse_categorical_accuracy: 0.9375 - val_loss: 0.3283 - val_sparse_categorical_accuracy: 0.8912\n",
            "Epoch 239/250\n",
            "390/390 [==============================] - 11s 29ms/step - loss: 0.1925 - sparse_categorical_accuracy: 0.9363 - val_loss: 0.3285 - val_sparse_categorical_accuracy: 0.8915\n",
            "Epoch 240/250\n",
            "390/390 [==============================] - 11s 29ms/step - loss: 0.1871 - sparse_categorical_accuracy: 0.9391 - val_loss: 0.3280 - val_sparse_categorical_accuracy: 0.8912\n",
            "Epoch 241/250\n",
            "390/390 [==============================] - 11s 29ms/step - loss: 0.1881 - sparse_categorical_accuracy: 0.9389 - val_loss: 0.3285 - val_sparse_categorical_accuracy: 0.8915\n",
            "Epoch 242/250\n",
            "390/390 [==============================] - 12s 30ms/step - loss: 0.1936 - sparse_categorical_accuracy: 0.9362 - val_loss: 0.3278 - val_sparse_categorical_accuracy: 0.8917\n",
            "Epoch 243/250\n",
            "390/390 [==============================] - 11s 29ms/step - loss: 0.1911 - sparse_categorical_accuracy: 0.9372 - val_loss: 0.3286 - val_sparse_categorical_accuracy: 0.8908\n",
            "Epoch 244/250\n",
            "390/390 [==============================] - 11s 29ms/step - loss: 0.1902 - sparse_categorical_accuracy: 0.9373 - val_loss: 0.3282 - val_sparse_categorical_accuracy: 0.8916\n",
            "Epoch 245/250\n",
            "390/390 [==============================] - 11s 29ms/step - loss: 0.1898 - sparse_categorical_accuracy: 0.9375 - val_loss: 0.3279 - val_sparse_categorical_accuracy: 0.8916\n",
            "Epoch 246/250\n",
            "390/390 [==============================] - 11s 29ms/step - loss: 0.1867 - sparse_categorical_accuracy: 0.9385 - val_loss: 0.3285 - val_sparse_categorical_accuracy: 0.8917\n",
            "Epoch 247/250\n",
            "390/390 [==============================] - 11s 29ms/step - loss: 0.1902 - sparse_categorical_accuracy: 0.9379 - val_loss: 0.3283 - val_sparse_categorical_accuracy: 0.8914\n",
            "Epoch 248/250\n",
            "390/390 [==============================] - 11s 28ms/step - loss: 0.1898 - sparse_categorical_accuracy: 0.9381 - val_loss: 0.3282 - val_sparse_categorical_accuracy: 0.8920\n",
            "Epoch 249/250\n",
            "390/390 [==============================] - 11s 28ms/step - loss: 0.1892 - sparse_categorical_accuracy: 0.9382 - val_loss: 0.3284 - val_sparse_categorical_accuracy: 0.8909\n",
            "Epoch 250/250\n",
            "390/390 [==============================] - 11s 28ms/step - loss: 0.1901 - sparse_categorical_accuracy: 0.9373 - val_loss: 0.3279 - val_sparse_categorical_accuracy: 0.8917\n"
          ],
          "name": "stdout"
        },
        {
          "output_type": "display_data",
          "data": {
            "image/png": "[encoded data removed]",
            "text/plain": [
              "<Figure size 432x288 with 1 Axes>"
            ]
          },
          "metadata": {
            "tags": [],
            "needs_background": "light"
          }
        },
        {
          "output_type": "display_data",
          "data": {
            "image/png": "[encoded data removed]",
            "text/plain": [
              "<Figure size 432x288 with 1 Axes>"
            ]
          },
          "metadata": {
            "tags": [],
            "needs_background": "light"
          }
        },
        {
          "output_type": "stream",
          "text": [
            "Loss: 32.79%\n",
            "Accuracy: 89.17%\n"
          ],
          "name": "stdout"
        }
      ]
    }
  ]
}